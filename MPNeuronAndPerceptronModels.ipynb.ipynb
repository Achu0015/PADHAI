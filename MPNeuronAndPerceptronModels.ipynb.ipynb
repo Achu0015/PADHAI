{
  "nbformat": 4,
  "nbformat_minor": 0,
  "metadata": {
    "colab": {
      "name": "0214_MPNeuronAndPerceptron-1550141205767.ipynb",
      "provenance": [],
      "collapsed_sections": [
        "TAYr4xxU1qfi"
      ],
      "include_colab_link": true
    },
    "kernelspec": {
      "name": "python3",
      "display_name": "Python 3"
    }
  },
  "cells": [
    {
      "cell_type": "markdown",
      "metadata": {
        "id": "view-in-github",
        "colab_type": "text"
      },
      "source": [
        "<a href=\"https://colab.research.google.com/github/Achu0015/PADHAI/blob/master/MPNeuronAndPerceptronModels.ipynb.ipynb\" target=\"_parent\"><img src=\"https://colab.research.google.com/assets/colab-badge.svg\" alt=\"Open In Colab\"/></a>"
      ]
    },
    {
      "cell_type": "markdown",
      "metadata": {
        "id": "FDU_ZlnAtGgF",
        "colab_type": "text"
      },
      "source": [
        "## **Loading Data**"
      ]
    },
    {
      "cell_type": "code",
      "metadata": {
        "id": "wdBTrReOpC1v",
        "colab_type": "code",
        "colab": {}
      },
      "source": [
        "import sklearn.datasets\n",
        "import numpy as np"
      ],
      "execution_count": 0,
      "outputs": []
    },
    {
      "cell_type": "code",
      "metadata": {
        "id": "Tz_qeVPSpfLy",
        "colab_type": "code",
        "colab": {}
      },
      "source": [
        "breast_cancer = sklearn.datasets.load_breast_cancer()"
      ],
      "execution_count": 0,
      "outputs": []
    },
    {
      "cell_type": "code",
      "metadata": {
        "id": "bRfBNzSZpoXB",
        "colab_type": "code",
        "colab": {}
      },
      "source": [
        "X = breast_cancer.data\n",
        "Y = breast_cancer.target"
      ],
      "execution_count": 0,
      "outputs": []
    },
    {
      "cell_type": "code",
      "metadata": {
        "id": "RdQ_9qzFp-Qn",
        "colab_type": "code",
        "outputId": "18d48a1c-816b-4666-c95a-7af255477c78",
        "colab": {
          "base_uri": "https://localhost:8080/",
          "height": 52
        }
      },
      "source": [
        "print(X.shape)\n",
        "print(Y.shape)"
      ],
      "execution_count": 13,
      "outputs": [
        {
          "output_type": "stream",
          "text": [
            "(569, 30)\n",
            "(569,)\n"
          ],
          "name": "stdout"
        }
      ]
    },
    {
      "cell_type": "code",
      "metadata": {
        "id": "PZeqBoMTqZGG",
        "colab_type": "code",
        "colab": {}
      },
      "source": [
        "import pandas as pd"
      ],
      "execution_count": 0,
      "outputs": []
    },
    {
      "cell_type": "code",
      "metadata": {
        "id": "aGCn-oxgqcjb",
        "colab_type": "code",
        "colab": {}
      },
      "source": [
        "data = pd.DataFrame(breast_cancer.data, columns=breast_cancer.feature_names)\n",
        "data['class'] = breast_cancer.target"
      ],
      "execution_count": 0,
      "outputs": []
    },
    {
      "cell_type": "code",
      "metadata": {
        "id": "RqllLN24rSO9",
        "colab_type": "code",
        "outputId": "49af085b-e124-40d0-cc0a-1d512157118f",
        "colab": {
          "base_uri": "https://localhost:8080/",
          "height": 257
        }
      },
      "source": [
        "data.head()"
      ],
      "execution_count": 16,
      "outputs": [
        {
          "output_type": "execute_result",
          "data": {
            "text/html": [
              "<div>\n",
              "<style scoped>\n",
              "    .dataframe tbody tr th:only-of-type {\n",
              "        vertical-align: middle;\n",
              "    }\n",
              "\n",
              "    .dataframe tbody tr th {\n",
              "        vertical-align: top;\n",
              "    }\n",
              "\n",
              "    .dataframe thead th {\n",
              "        text-align: right;\n",
              "    }\n",
              "</style>\n",
              "<table border=\"1\" class=\"dataframe\">\n",
              "  <thead>\n",
              "    <tr style=\"text-align: right;\">\n",
              "      <th></th>\n",
              "      <th>mean radius</th>\n",
              "      <th>mean texture</th>\n",
              "      <th>mean perimeter</th>\n",
              "      <th>mean area</th>\n",
              "      <th>mean smoothness</th>\n",
              "      <th>mean compactness</th>\n",
              "      <th>mean concavity</th>\n",
              "      <th>mean concave points</th>\n",
              "      <th>mean symmetry</th>\n",
              "      <th>mean fractal dimension</th>\n",
              "      <th>radius error</th>\n",
              "      <th>texture error</th>\n",
              "      <th>perimeter error</th>\n",
              "      <th>area error</th>\n",
              "      <th>smoothness error</th>\n",
              "      <th>compactness error</th>\n",
              "      <th>concavity error</th>\n",
              "      <th>concave points error</th>\n",
              "      <th>symmetry error</th>\n",
              "      <th>fractal dimension error</th>\n",
              "      <th>worst radius</th>\n",
              "      <th>worst texture</th>\n",
              "      <th>worst perimeter</th>\n",
              "      <th>worst area</th>\n",
              "      <th>worst smoothness</th>\n",
              "      <th>worst compactness</th>\n",
              "      <th>worst concavity</th>\n",
              "      <th>worst concave points</th>\n",
              "      <th>worst symmetry</th>\n",
              "      <th>worst fractal dimension</th>\n",
              "      <th>class</th>\n",
              "    </tr>\n",
              "  </thead>\n",
              "  <tbody>\n",
              "    <tr>\n",
              "      <th>0</th>\n",
              "      <td>17.99</td>\n",
              "      <td>10.38</td>\n",
              "      <td>122.80</td>\n",
              "      <td>1001.0</td>\n",
              "      <td>0.11840</td>\n",
              "      <td>0.27760</td>\n",
              "      <td>0.3001</td>\n",
              "      <td>0.14710</td>\n",
              "      <td>0.2419</td>\n",
              "      <td>0.07871</td>\n",
              "      <td>1.0950</td>\n",
              "      <td>0.9053</td>\n",
              "      <td>8.589</td>\n",
              "      <td>153.40</td>\n",
              "      <td>0.006399</td>\n",
              "      <td>0.04904</td>\n",
              "      <td>0.05373</td>\n",
              "      <td>0.01587</td>\n",
              "      <td>0.03003</td>\n",
              "      <td>0.006193</td>\n",
              "      <td>25.38</td>\n",
              "      <td>17.33</td>\n",
              "      <td>184.60</td>\n",
              "      <td>2019.0</td>\n",
              "      <td>0.1622</td>\n",
              "      <td>0.6656</td>\n",
              "      <td>0.7119</td>\n",
              "      <td>0.2654</td>\n",
              "      <td>0.4601</td>\n",
              "      <td>0.11890</td>\n",
              "      <td>0</td>\n",
              "    </tr>\n",
              "    <tr>\n",
              "      <th>1</th>\n",
              "      <td>20.57</td>\n",
              "      <td>17.77</td>\n",
              "      <td>132.90</td>\n",
              "      <td>1326.0</td>\n",
              "      <td>0.08474</td>\n",
              "      <td>0.07864</td>\n",
              "      <td>0.0869</td>\n",
              "      <td>0.07017</td>\n",
              "      <td>0.1812</td>\n",
              "      <td>0.05667</td>\n",
              "      <td>0.5435</td>\n",
              "      <td>0.7339</td>\n",
              "      <td>3.398</td>\n",
              "      <td>74.08</td>\n",
              "      <td>0.005225</td>\n",
              "      <td>0.01308</td>\n",
              "      <td>0.01860</td>\n",
              "      <td>0.01340</td>\n",
              "      <td>0.01389</td>\n",
              "      <td>0.003532</td>\n",
              "      <td>24.99</td>\n",
              "      <td>23.41</td>\n",
              "      <td>158.80</td>\n",
              "      <td>1956.0</td>\n",
              "      <td>0.1238</td>\n",
              "      <td>0.1866</td>\n",
              "      <td>0.2416</td>\n",
              "      <td>0.1860</td>\n",
              "      <td>0.2750</td>\n",
              "      <td>0.08902</td>\n",
              "      <td>0</td>\n",
              "    </tr>\n",
              "    <tr>\n",
              "      <th>2</th>\n",
              "      <td>19.69</td>\n",
              "      <td>21.25</td>\n",
              "      <td>130.00</td>\n",
              "      <td>1203.0</td>\n",
              "      <td>0.10960</td>\n",
              "      <td>0.15990</td>\n",
              "      <td>0.1974</td>\n",
              "      <td>0.12790</td>\n",
              "      <td>0.2069</td>\n",
              "      <td>0.05999</td>\n",
              "      <td>0.7456</td>\n",
              "      <td>0.7869</td>\n",
              "      <td>4.585</td>\n",
              "      <td>94.03</td>\n",
              "      <td>0.006150</td>\n",
              "      <td>0.04006</td>\n",
              "      <td>0.03832</td>\n",
              "      <td>0.02058</td>\n",
              "      <td>0.02250</td>\n",
              "      <td>0.004571</td>\n",
              "      <td>23.57</td>\n",
              "      <td>25.53</td>\n",
              "      <td>152.50</td>\n",
              "      <td>1709.0</td>\n",
              "      <td>0.1444</td>\n",
              "      <td>0.4245</td>\n",
              "      <td>0.4504</td>\n",
              "      <td>0.2430</td>\n",
              "      <td>0.3613</td>\n",
              "      <td>0.08758</td>\n",
              "      <td>0</td>\n",
              "    </tr>\n",
              "    <tr>\n",
              "      <th>3</th>\n",
              "      <td>11.42</td>\n",
              "      <td>20.38</td>\n",
              "      <td>77.58</td>\n",
              "      <td>386.1</td>\n",
              "      <td>0.14250</td>\n",
              "      <td>0.28390</td>\n",
              "      <td>0.2414</td>\n",
              "      <td>0.10520</td>\n",
              "      <td>0.2597</td>\n",
              "      <td>0.09744</td>\n",
              "      <td>0.4956</td>\n",
              "      <td>1.1560</td>\n",
              "      <td>3.445</td>\n",
              "      <td>27.23</td>\n",
              "      <td>0.009110</td>\n",
              "      <td>0.07458</td>\n",
              "      <td>0.05661</td>\n",
              "      <td>0.01867</td>\n",
              "      <td>0.05963</td>\n",
              "      <td>0.009208</td>\n",
              "      <td>14.91</td>\n",
              "      <td>26.50</td>\n",
              "      <td>98.87</td>\n",
              "      <td>567.7</td>\n",
              "      <td>0.2098</td>\n",
              "      <td>0.8663</td>\n",
              "      <td>0.6869</td>\n",
              "      <td>0.2575</td>\n",
              "      <td>0.6638</td>\n",
              "      <td>0.17300</td>\n",
              "      <td>0</td>\n",
              "    </tr>\n",
              "    <tr>\n",
              "      <th>4</th>\n",
              "      <td>20.29</td>\n",
              "      <td>14.34</td>\n",
              "      <td>135.10</td>\n",
              "      <td>1297.0</td>\n",
              "      <td>0.10030</td>\n",
              "      <td>0.13280</td>\n",
              "      <td>0.1980</td>\n",
              "      <td>0.10430</td>\n",
              "      <td>0.1809</td>\n",
              "      <td>0.05883</td>\n",
              "      <td>0.7572</td>\n",
              "      <td>0.7813</td>\n",
              "      <td>5.438</td>\n",
              "      <td>94.44</td>\n",
              "      <td>0.011490</td>\n",
              "      <td>0.02461</td>\n",
              "      <td>0.05688</td>\n",
              "      <td>0.01885</td>\n",
              "      <td>0.01756</td>\n",
              "      <td>0.005115</td>\n",
              "      <td>22.54</td>\n",
              "      <td>16.67</td>\n",
              "      <td>152.20</td>\n",
              "      <td>1575.0</td>\n",
              "      <td>0.1374</td>\n",
              "      <td>0.2050</td>\n",
              "      <td>0.4000</td>\n",
              "      <td>0.1625</td>\n",
              "      <td>0.2364</td>\n",
              "      <td>0.07678</td>\n",
              "      <td>0</td>\n",
              "    </tr>\n",
              "  </tbody>\n",
              "</table>\n",
              "</div>"
            ],
            "text/plain": [
              "   mean radius  mean texture  ...  worst fractal dimension  class\n",
              "0        17.99         10.38  ...                  0.11890      0\n",
              "1        20.57         17.77  ...                  0.08902      0\n",
              "2        19.69         21.25  ...                  0.08758      0\n",
              "3        11.42         20.38  ...                  0.17300      0\n",
              "4        20.29         14.34  ...                  0.07678      0\n",
              "\n",
              "[5 rows x 31 columns]"
            ]
          },
          "metadata": {
            "tags": []
          },
          "execution_count": 16
        }
      ]
    },
    {
      "cell_type": "code",
      "metadata": {
        "id": "Katk_hE6rUqz",
        "colab_type": "code",
        "outputId": "8eb2017b-6405-4c80-9e32-43a438556619",
        "colab": {
          "base_uri": "https://localhost:8080/",
          "height": 349
        }
      },
      "source": [
        "data.describe()"
      ],
      "execution_count": 17,
      "outputs": [
        {
          "output_type": "execute_result",
          "data": {
            "text/html": [
              "<div>\n",
              "<style scoped>\n",
              "    .dataframe tbody tr th:only-of-type {\n",
              "        vertical-align: middle;\n",
              "    }\n",
              "\n",
              "    .dataframe tbody tr th {\n",
              "        vertical-align: top;\n",
              "    }\n",
              "\n",
              "    .dataframe thead th {\n",
              "        text-align: right;\n",
              "    }\n",
              "</style>\n",
              "<table border=\"1\" class=\"dataframe\">\n",
              "  <thead>\n",
              "    <tr style=\"text-align: right;\">\n",
              "      <th></th>\n",
              "      <th>mean radius</th>\n",
              "      <th>mean texture</th>\n",
              "      <th>mean perimeter</th>\n",
              "      <th>mean area</th>\n",
              "      <th>mean smoothness</th>\n",
              "      <th>mean compactness</th>\n",
              "      <th>mean concavity</th>\n",
              "      <th>mean concave points</th>\n",
              "      <th>mean symmetry</th>\n",
              "      <th>mean fractal dimension</th>\n",
              "      <th>radius error</th>\n",
              "      <th>texture error</th>\n",
              "      <th>perimeter error</th>\n",
              "      <th>area error</th>\n",
              "      <th>smoothness error</th>\n",
              "      <th>compactness error</th>\n",
              "      <th>concavity error</th>\n",
              "      <th>concave points error</th>\n",
              "      <th>symmetry error</th>\n",
              "      <th>fractal dimension error</th>\n",
              "      <th>worst radius</th>\n",
              "      <th>worst texture</th>\n",
              "      <th>worst perimeter</th>\n",
              "      <th>worst area</th>\n",
              "      <th>worst smoothness</th>\n",
              "      <th>worst compactness</th>\n",
              "      <th>worst concavity</th>\n",
              "      <th>worst concave points</th>\n",
              "      <th>worst symmetry</th>\n",
              "      <th>worst fractal dimension</th>\n",
              "      <th>class</th>\n",
              "    </tr>\n",
              "  </thead>\n",
              "  <tbody>\n",
              "    <tr>\n",
              "      <th>count</th>\n",
              "      <td>569.000000</td>\n",
              "      <td>569.000000</td>\n",
              "      <td>569.000000</td>\n",
              "      <td>569.000000</td>\n",
              "      <td>569.000000</td>\n",
              "      <td>569.000000</td>\n",
              "      <td>569.000000</td>\n",
              "      <td>569.000000</td>\n",
              "      <td>569.000000</td>\n",
              "      <td>569.000000</td>\n",
              "      <td>569.000000</td>\n",
              "      <td>569.000000</td>\n",
              "      <td>569.000000</td>\n",
              "      <td>569.000000</td>\n",
              "      <td>569.000000</td>\n",
              "      <td>569.000000</td>\n",
              "      <td>569.000000</td>\n",
              "      <td>569.000000</td>\n",
              "      <td>569.000000</td>\n",
              "      <td>569.000000</td>\n",
              "      <td>569.000000</td>\n",
              "      <td>569.000000</td>\n",
              "      <td>569.000000</td>\n",
              "      <td>569.000000</td>\n",
              "      <td>569.000000</td>\n",
              "      <td>569.000000</td>\n",
              "      <td>569.000000</td>\n",
              "      <td>569.000000</td>\n",
              "      <td>569.000000</td>\n",
              "      <td>569.000000</td>\n",
              "      <td>569.000000</td>\n",
              "    </tr>\n",
              "    <tr>\n",
              "      <th>mean</th>\n",
              "      <td>14.127292</td>\n",
              "      <td>19.289649</td>\n",
              "      <td>91.969033</td>\n",
              "      <td>654.889104</td>\n",
              "      <td>0.096360</td>\n",
              "      <td>0.104341</td>\n",
              "      <td>0.088799</td>\n",
              "      <td>0.048919</td>\n",
              "      <td>0.181162</td>\n",
              "      <td>0.062798</td>\n",
              "      <td>0.405172</td>\n",
              "      <td>1.216853</td>\n",
              "      <td>2.866059</td>\n",
              "      <td>40.337079</td>\n",
              "      <td>0.007041</td>\n",
              "      <td>0.025478</td>\n",
              "      <td>0.031894</td>\n",
              "      <td>0.011796</td>\n",
              "      <td>0.020542</td>\n",
              "      <td>0.003795</td>\n",
              "      <td>16.269190</td>\n",
              "      <td>25.677223</td>\n",
              "      <td>107.261213</td>\n",
              "      <td>880.583128</td>\n",
              "      <td>0.132369</td>\n",
              "      <td>0.254265</td>\n",
              "      <td>0.272188</td>\n",
              "      <td>0.114606</td>\n",
              "      <td>0.290076</td>\n",
              "      <td>0.083946</td>\n",
              "      <td>0.627417</td>\n",
              "    </tr>\n",
              "    <tr>\n",
              "      <th>std</th>\n",
              "      <td>3.524049</td>\n",
              "      <td>4.301036</td>\n",
              "      <td>24.298981</td>\n",
              "      <td>351.914129</td>\n",
              "      <td>0.014064</td>\n",
              "      <td>0.052813</td>\n",
              "      <td>0.079720</td>\n",
              "      <td>0.038803</td>\n",
              "      <td>0.027414</td>\n",
              "      <td>0.007060</td>\n",
              "      <td>0.277313</td>\n",
              "      <td>0.551648</td>\n",
              "      <td>2.021855</td>\n",
              "      <td>45.491006</td>\n",
              "      <td>0.003003</td>\n",
              "      <td>0.017908</td>\n",
              "      <td>0.030186</td>\n",
              "      <td>0.006170</td>\n",
              "      <td>0.008266</td>\n",
              "      <td>0.002646</td>\n",
              "      <td>4.833242</td>\n",
              "      <td>6.146258</td>\n",
              "      <td>33.602542</td>\n",
              "      <td>569.356993</td>\n",
              "      <td>0.022832</td>\n",
              "      <td>0.157336</td>\n",
              "      <td>0.208624</td>\n",
              "      <td>0.065732</td>\n",
              "      <td>0.061867</td>\n",
              "      <td>0.018061</td>\n",
              "      <td>0.483918</td>\n",
              "    </tr>\n",
              "    <tr>\n",
              "      <th>min</th>\n",
              "      <td>6.981000</td>\n",
              "      <td>9.710000</td>\n",
              "      <td>43.790000</td>\n",
              "      <td>143.500000</td>\n",
              "      <td>0.052630</td>\n",
              "      <td>0.019380</td>\n",
              "      <td>0.000000</td>\n",
              "      <td>0.000000</td>\n",
              "      <td>0.106000</td>\n",
              "      <td>0.049960</td>\n",
              "      <td>0.111500</td>\n",
              "      <td>0.360200</td>\n",
              "      <td>0.757000</td>\n",
              "      <td>6.802000</td>\n",
              "      <td>0.001713</td>\n",
              "      <td>0.002252</td>\n",
              "      <td>0.000000</td>\n",
              "      <td>0.000000</td>\n",
              "      <td>0.007882</td>\n",
              "      <td>0.000895</td>\n",
              "      <td>7.930000</td>\n",
              "      <td>12.020000</td>\n",
              "      <td>50.410000</td>\n",
              "      <td>185.200000</td>\n",
              "      <td>0.071170</td>\n",
              "      <td>0.027290</td>\n",
              "      <td>0.000000</td>\n",
              "      <td>0.000000</td>\n",
              "      <td>0.156500</td>\n",
              "      <td>0.055040</td>\n",
              "      <td>0.000000</td>\n",
              "    </tr>\n",
              "    <tr>\n",
              "      <th>25%</th>\n",
              "      <td>11.700000</td>\n",
              "      <td>16.170000</td>\n",
              "      <td>75.170000</td>\n",
              "      <td>420.300000</td>\n",
              "      <td>0.086370</td>\n",
              "      <td>0.064920</td>\n",
              "      <td>0.029560</td>\n",
              "      <td>0.020310</td>\n",
              "      <td>0.161900</td>\n",
              "      <td>0.057700</td>\n",
              "      <td>0.232400</td>\n",
              "      <td>0.833900</td>\n",
              "      <td>1.606000</td>\n",
              "      <td>17.850000</td>\n",
              "      <td>0.005169</td>\n",
              "      <td>0.013080</td>\n",
              "      <td>0.015090</td>\n",
              "      <td>0.007638</td>\n",
              "      <td>0.015160</td>\n",
              "      <td>0.002248</td>\n",
              "      <td>13.010000</td>\n",
              "      <td>21.080000</td>\n",
              "      <td>84.110000</td>\n",
              "      <td>515.300000</td>\n",
              "      <td>0.116600</td>\n",
              "      <td>0.147200</td>\n",
              "      <td>0.114500</td>\n",
              "      <td>0.064930</td>\n",
              "      <td>0.250400</td>\n",
              "      <td>0.071460</td>\n",
              "      <td>0.000000</td>\n",
              "    </tr>\n",
              "    <tr>\n",
              "      <th>50%</th>\n",
              "      <td>13.370000</td>\n",
              "      <td>18.840000</td>\n",
              "      <td>86.240000</td>\n",
              "      <td>551.100000</td>\n",
              "      <td>0.095870</td>\n",
              "      <td>0.092630</td>\n",
              "      <td>0.061540</td>\n",
              "      <td>0.033500</td>\n",
              "      <td>0.179200</td>\n",
              "      <td>0.061540</td>\n",
              "      <td>0.324200</td>\n",
              "      <td>1.108000</td>\n",
              "      <td>2.287000</td>\n",
              "      <td>24.530000</td>\n",
              "      <td>0.006380</td>\n",
              "      <td>0.020450</td>\n",
              "      <td>0.025890</td>\n",
              "      <td>0.010930</td>\n",
              "      <td>0.018730</td>\n",
              "      <td>0.003187</td>\n",
              "      <td>14.970000</td>\n",
              "      <td>25.410000</td>\n",
              "      <td>97.660000</td>\n",
              "      <td>686.500000</td>\n",
              "      <td>0.131300</td>\n",
              "      <td>0.211900</td>\n",
              "      <td>0.226700</td>\n",
              "      <td>0.099930</td>\n",
              "      <td>0.282200</td>\n",
              "      <td>0.080040</td>\n",
              "      <td>1.000000</td>\n",
              "    </tr>\n",
              "    <tr>\n",
              "      <th>75%</th>\n",
              "      <td>15.780000</td>\n",
              "      <td>21.800000</td>\n",
              "      <td>104.100000</td>\n",
              "      <td>782.700000</td>\n",
              "      <td>0.105300</td>\n",
              "      <td>0.130400</td>\n",
              "      <td>0.130700</td>\n",
              "      <td>0.074000</td>\n",
              "      <td>0.195700</td>\n",
              "      <td>0.066120</td>\n",
              "      <td>0.478900</td>\n",
              "      <td>1.474000</td>\n",
              "      <td>3.357000</td>\n",
              "      <td>45.190000</td>\n",
              "      <td>0.008146</td>\n",
              "      <td>0.032450</td>\n",
              "      <td>0.042050</td>\n",
              "      <td>0.014710</td>\n",
              "      <td>0.023480</td>\n",
              "      <td>0.004558</td>\n",
              "      <td>18.790000</td>\n",
              "      <td>29.720000</td>\n",
              "      <td>125.400000</td>\n",
              "      <td>1084.000000</td>\n",
              "      <td>0.146000</td>\n",
              "      <td>0.339100</td>\n",
              "      <td>0.382900</td>\n",
              "      <td>0.161400</td>\n",
              "      <td>0.317900</td>\n",
              "      <td>0.092080</td>\n",
              "      <td>1.000000</td>\n",
              "    </tr>\n",
              "    <tr>\n",
              "      <th>max</th>\n",
              "      <td>28.110000</td>\n",
              "      <td>39.280000</td>\n",
              "      <td>188.500000</td>\n",
              "      <td>2501.000000</td>\n",
              "      <td>0.163400</td>\n",
              "      <td>0.345400</td>\n",
              "      <td>0.426800</td>\n",
              "      <td>0.201200</td>\n",
              "      <td>0.304000</td>\n",
              "      <td>0.097440</td>\n",
              "      <td>2.873000</td>\n",
              "      <td>4.885000</td>\n",
              "      <td>21.980000</td>\n",
              "      <td>542.200000</td>\n",
              "      <td>0.031130</td>\n",
              "      <td>0.135400</td>\n",
              "      <td>0.396000</td>\n",
              "      <td>0.052790</td>\n",
              "      <td>0.078950</td>\n",
              "      <td>0.029840</td>\n",
              "      <td>36.040000</td>\n",
              "      <td>49.540000</td>\n",
              "      <td>251.200000</td>\n",
              "      <td>4254.000000</td>\n",
              "      <td>0.222600</td>\n",
              "      <td>1.058000</td>\n",
              "      <td>1.252000</td>\n",
              "      <td>0.291000</td>\n",
              "      <td>0.663800</td>\n",
              "      <td>0.207500</td>\n",
              "      <td>1.000000</td>\n",
              "    </tr>\n",
              "  </tbody>\n",
              "</table>\n",
              "</div>"
            ],
            "text/plain": [
              "       mean radius  mean texture  ...  worst fractal dimension       class\n",
              "count   569.000000    569.000000  ...               569.000000  569.000000\n",
              "mean     14.127292     19.289649  ...                 0.083946    0.627417\n",
              "std       3.524049      4.301036  ...                 0.018061    0.483918\n",
              "min       6.981000      9.710000  ...                 0.055040    0.000000\n",
              "25%      11.700000     16.170000  ...                 0.071460    0.000000\n",
              "50%      13.370000     18.840000  ...                 0.080040    1.000000\n",
              "75%      15.780000     21.800000  ...                 0.092080    1.000000\n",
              "max      28.110000     39.280000  ...                 0.207500    1.000000\n",
              "\n",
              "[8 rows x 31 columns]"
            ]
          },
          "metadata": {
            "tags": []
          },
          "execution_count": 17
        }
      ]
    },
    {
      "cell_type": "code",
      "metadata": {
        "id": "FreR-CZrr0WW",
        "colab_type": "code",
        "outputId": "9a8a1e8f-92e9-4e5a-f046-1baf22057c99",
        "colab": {
          "base_uri": "https://localhost:8080/",
          "height": 69
        }
      },
      "source": [
        "print(data['class'].value_counts())"
      ],
      "execution_count": 18,
      "outputs": [
        {
          "output_type": "stream",
          "text": [
            "1    357\n",
            "0    212\n",
            "Name: class, dtype: int64\n"
          ],
          "name": "stdout"
        }
      ]
    },
    {
      "cell_type": "code",
      "metadata": {
        "id": "pKwqfNu9sQfl",
        "colab_type": "code",
        "outputId": "008b8de5-e3c1-4acc-805a-2cbbcb9c75bc",
        "colab": {
          "base_uri": "https://localhost:8080/",
          "height": 35
        }
      },
      "source": [
        "print(breast_cancer.target_names)"
      ],
      "execution_count": 19,
      "outputs": [
        {
          "output_type": "stream",
          "text": [
            "['malignant' 'benign']\n"
          ],
          "name": "stdout"
        }
      ]
    },
    {
      "cell_type": "code",
      "metadata": {
        "id": "maVEIoRJsdYw",
        "colab_type": "code",
        "outputId": "be4d96c0-f515-4d28-cf2b-c6191e37729a",
        "colab": {
          "base_uri": "https://localhost:8080/",
          "height": 195
        }
      },
      "source": [
        "data.groupby('class').mean()"
      ],
      "execution_count": 20,
      "outputs": [
        {
          "output_type": "execute_result",
          "data": {
            "text/html": [
              "<div>\n",
              "<style scoped>\n",
              "    .dataframe tbody tr th:only-of-type {\n",
              "        vertical-align: middle;\n",
              "    }\n",
              "\n",
              "    .dataframe tbody tr th {\n",
              "        vertical-align: top;\n",
              "    }\n",
              "\n",
              "    .dataframe thead th {\n",
              "        text-align: right;\n",
              "    }\n",
              "</style>\n",
              "<table border=\"1\" class=\"dataframe\">\n",
              "  <thead>\n",
              "    <tr style=\"text-align: right;\">\n",
              "      <th></th>\n",
              "      <th>mean radius</th>\n",
              "      <th>mean texture</th>\n",
              "      <th>mean perimeter</th>\n",
              "      <th>mean area</th>\n",
              "      <th>mean smoothness</th>\n",
              "      <th>mean compactness</th>\n",
              "      <th>mean concavity</th>\n",
              "      <th>mean concave points</th>\n",
              "      <th>mean symmetry</th>\n",
              "      <th>mean fractal dimension</th>\n",
              "      <th>radius error</th>\n",
              "      <th>texture error</th>\n",
              "      <th>perimeter error</th>\n",
              "      <th>area error</th>\n",
              "      <th>smoothness error</th>\n",
              "      <th>compactness error</th>\n",
              "      <th>concavity error</th>\n",
              "      <th>concave points error</th>\n",
              "      <th>symmetry error</th>\n",
              "      <th>fractal dimension error</th>\n",
              "      <th>worst radius</th>\n",
              "      <th>worst texture</th>\n",
              "      <th>worst perimeter</th>\n",
              "      <th>worst area</th>\n",
              "      <th>worst smoothness</th>\n",
              "      <th>worst compactness</th>\n",
              "      <th>worst concavity</th>\n",
              "      <th>worst concave points</th>\n",
              "      <th>worst symmetry</th>\n",
              "      <th>worst fractal dimension</th>\n",
              "    </tr>\n",
              "    <tr>\n",
              "      <th>class</th>\n",
              "      <th></th>\n",
              "      <th></th>\n",
              "      <th></th>\n",
              "      <th></th>\n",
              "      <th></th>\n",
              "      <th></th>\n",
              "      <th></th>\n",
              "      <th></th>\n",
              "      <th></th>\n",
              "      <th></th>\n",
              "      <th></th>\n",
              "      <th></th>\n",
              "      <th></th>\n",
              "      <th></th>\n",
              "      <th></th>\n",
              "      <th></th>\n",
              "      <th></th>\n",
              "      <th></th>\n",
              "      <th></th>\n",
              "      <th></th>\n",
              "      <th></th>\n",
              "      <th></th>\n",
              "      <th></th>\n",
              "      <th></th>\n",
              "      <th></th>\n",
              "      <th></th>\n",
              "      <th></th>\n",
              "      <th></th>\n",
              "      <th></th>\n",
              "      <th></th>\n",
              "    </tr>\n",
              "  </thead>\n",
              "  <tbody>\n",
              "    <tr>\n",
              "      <th>0</th>\n",
              "      <td>17.462830</td>\n",
              "      <td>21.604906</td>\n",
              "      <td>115.365377</td>\n",
              "      <td>978.376415</td>\n",
              "      <td>0.102898</td>\n",
              "      <td>0.145188</td>\n",
              "      <td>0.160775</td>\n",
              "      <td>0.087990</td>\n",
              "      <td>0.192909</td>\n",
              "      <td>0.062680</td>\n",
              "      <td>0.609083</td>\n",
              "      <td>1.210915</td>\n",
              "      <td>4.323929</td>\n",
              "      <td>72.672406</td>\n",
              "      <td>0.006780</td>\n",
              "      <td>0.032281</td>\n",
              "      <td>0.041824</td>\n",
              "      <td>0.015060</td>\n",
              "      <td>0.020472</td>\n",
              "      <td>0.004062</td>\n",
              "      <td>21.134811</td>\n",
              "      <td>29.318208</td>\n",
              "      <td>141.370330</td>\n",
              "      <td>1422.286321</td>\n",
              "      <td>0.144845</td>\n",
              "      <td>0.374824</td>\n",
              "      <td>0.450606</td>\n",
              "      <td>0.182237</td>\n",
              "      <td>0.323468</td>\n",
              "      <td>0.091530</td>\n",
              "    </tr>\n",
              "    <tr>\n",
              "      <th>1</th>\n",
              "      <td>12.146524</td>\n",
              "      <td>17.914762</td>\n",
              "      <td>78.075406</td>\n",
              "      <td>462.790196</td>\n",
              "      <td>0.092478</td>\n",
              "      <td>0.080085</td>\n",
              "      <td>0.046058</td>\n",
              "      <td>0.025717</td>\n",
              "      <td>0.174186</td>\n",
              "      <td>0.062867</td>\n",
              "      <td>0.284082</td>\n",
              "      <td>1.220380</td>\n",
              "      <td>2.000321</td>\n",
              "      <td>21.135148</td>\n",
              "      <td>0.007196</td>\n",
              "      <td>0.021438</td>\n",
              "      <td>0.025997</td>\n",
              "      <td>0.009858</td>\n",
              "      <td>0.020584</td>\n",
              "      <td>0.003636</td>\n",
              "      <td>13.379801</td>\n",
              "      <td>23.515070</td>\n",
              "      <td>87.005938</td>\n",
              "      <td>558.899440</td>\n",
              "      <td>0.124959</td>\n",
              "      <td>0.182673</td>\n",
              "      <td>0.166238</td>\n",
              "      <td>0.074444</td>\n",
              "      <td>0.270246</td>\n",
              "      <td>0.079442</td>\n",
              "    </tr>\n",
              "  </tbody>\n",
              "</table>\n",
              "</div>"
            ],
            "text/plain": [
              "       mean radius  mean texture  ...  worst symmetry  worst fractal dimension\n",
              "class                             ...                                         \n",
              "0        17.462830     21.604906  ...        0.323468                 0.091530\n",
              "1        12.146524     17.914762  ...        0.270246                 0.079442\n",
              "\n",
              "[2 rows x 30 columns]"
            ]
          },
          "metadata": {
            "tags": []
          },
          "execution_count": 20
        }
      ]
    },
    {
      "cell_type": "markdown",
      "metadata": {
        "id": "gBI8AVaNtWpQ",
        "colab_type": "text"
      },
      "source": [
        ""
      ]
    },
    {
      "cell_type": "markdown",
      "metadata": {
        "id": "a5u5He3ltf4V",
        "colab_type": "text"
      },
      "source": [
        "# **Train Test Split**"
      ]
    },
    {
      "cell_type": "code",
      "metadata": {
        "id": "8HuJW9L1tvtO",
        "colab_type": "code",
        "colab": {}
      },
      "source": [
        "from sklearn.model_selection import train_test_split"
      ],
      "execution_count": 0,
      "outputs": []
    },
    {
      "cell_type": "code",
      "metadata": {
        "id": "QBYvGCRouUdl",
        "colab_type": "code",
        "colab": {}
      },
      "source": [
        "X = data.drop('class', axis=1)\n",
        "Y = data['class']"
      ],
      "execution_count": 0,
      "outputs": []
    },
    {
      "cell_type": "code",
      "metadata": {
        "id": "JQDD3wN3usBD",
        "colab_type": "code",
        "outputId": "cf7354cc-b85b-4eb8-fef2-ca4679be4187",
        "colab": {
          "base_uri": "https://localhost:8080/",
          "height": 35
        }
      },
      "source": [
        "type(X)"
      ],
      "execution_count": 50,
      "outputs": [
        {
          "output_type": "execute_result",
          "data": {
            "text/plain": [
              "pandas.core.frame.DataFrame"
            ]
          },
          "metadata": {
            "tags": []
          },
          "execution_count": 50
        }
      ]
    },
    {
      "cell_type": "code",
      "metadata": {
        "id": "ht4zu9LhuuX7",
        "colab_type": "code",
        "colab": {}
      },
      "source": [
        "X_train, X_test, Y_train, Y_test = train_test_split(X, Y, test_size = 0.1, stratify = Y)"
      ],
      "execution_count": 0,
      "outputs": []
    },
    {
      "cell_type": "code",
      "metadata": {
        "id": "6Wo4ovfVvEoU",
        "colab_type": "code",
        "outputId": "6cf90c75-e7ea-4749-851a-74dbfb802f2d",
        "colab": {
          "base_uri": "https://localhost:8080/",
          "height": 52
        }
      },
      "source": [
        "print(X.shape, X_train.shape, X_test.shape)\n",
        "print(Y.shape, Y_train.shape, Y_test.shape)"
      ],
      "execution_count": 52,
      "outputs": [
        {
          "output_type": "stream",
          "text": [
            "(569, 30) (512, 30) (57, 30)\n",
            "(569,) (512,) (57,)\n"
          ],
          "name": "stdout"
        }
      ]
    },
    {
      "cell_type": "code",
      "metadata": {
        "id": "1WHVHk0EvHPX",
        "colab_type": "code",
        "outputId": "f30fdee7-bd8c-40b8-e67d-5762689b8071",
        "colab": {
          "base_uri": "https://localhost:8080/",
          "height": 35
        }
      },
      "source": [
        "print(Y.mean(), Y_train.mean(), Y_test.mean())"
      ],
      "execution_count": 53,
      "outputs": [
        {
          "output_type": "stream",
          "text": [
            "0.6274165202108963 0.626953125 0.631578947368421\n"
          ],
          "name": "stdout"
        }
      ]
    },
    {
      "cell_type": "code",
      "metadata": {
        "id": "gTFj0yU5zyQ9",
        "colab_type": "code",
        "colab": {
          "base_uri": "https://localhost:8080/",
          "height": 1000
        },
        "outputId": "0abbfaba-9c9b-4fa7-b92f-51424a0bf9ef"
      },
      "source": [
        "print(X.mean(), X_train.mean(), X_test.mean())"
      ],
      "execution_count": 54,
      "outputs": [
        {
          "output_type": "stream",
          "text": [
            "mean radius                 14.127292\n",
            "mean texture                19.289649\n",
            "mean perimeter              91.969033\n",
            "mean area                  654.889104\n",
            "mean smoothness              0.096360\n",
            "mean compactness             0.104341\n",
            "mean concavity               0.088799\n",
            "mean concave points          0.048919\n",
            "mean symmetry                0.181162\n",
            "mean fractal dimension       0.062798\n",
            "radius error                 0.405172\n",
            "texture error                1.216853\n",
            "perimeter error              2.866059\n",
            "area error                  40.337079\n",
            "smoothness error             0.007041\n",
            "compactness error            0.025478\n",
            "concavity error              0.031894\n",
            "concave points error         0.011796\n",
            "symmetry error               0.020542\n",
            "fractal dimension error      0.003795\n",
            "worst radius                16.269190\n",
            "worst texture               25.677223\n",
            "worst perimeter            107.261213\n",
            "worst area                 880.583128\n",
            "worst smoothness             0.132369\n",
            "worst compactness            0.254265\n",
            "worst concavity              0.272188\n",
            "worst concave points         0.114606\n",
            "worst symmetry               0.290076\n",
            "worst fractal dimension      0.083946\n",
            "dtype: float64 mean radius                 14.098771\n",
            "mean texture                19.266973\n",
            "mean perimeter              91.787383\n",
            "mean area                  652.366992\n",
            "mean smoothness              0.096362\n",
            "mean compactness             0.104494\n",
            "mean concavity               0.088559\n",
            "mean concave points          0.048743\n",
            "mean symmetry                0.181523\n",
            "mean fractal dimension       0.062827\n",
            "radius error                 0.403306\n",
            "texture error                1.209649\n",
            "perimeter error              2.853216\n",
            "area error                  40.262717\n",
            "smoothness error             0.007026\n",
            "compactness error            0.025600\n",
            "concavity error              0.032182\n",
            "concave points error         0.011802\n",
            "symmetry error               0.020577\n",
            "fractal dimension error      0.003811\n",
            "worst radius                16.240652\n",
            "worst texture               25.673789\n",
            "worst perimeter            107.066973\n",
            "worst area                 878.253711\n",
            "worst smoothness             0.132538\n",
            "worst compactness            0.254073\n",
            "worst concavity              0.272781\n",
            "worst concave points         0.114762\n",
            "worst symmetry               0.290603\n",
            "worst fractal dimension      0.083960\n",
            "dtype: float64 mean radius                 14.383474\n",
            "mean texture                19.493333\n",
            "mean perimeter              93.600702\n",
            "mean area                  677.543860\n",
            "mean smoothness              0.096341\n",
            "mean compactness             0.102965\n",
            "mean concavity               0.090959\n",
            "mean concave points          0.050498\n",
            "mean symmetry                0.177914\n",
            "mean fractal dimension       0.062531\n",
            "radius error                 0.421932\n",
            "texture error                1.281563\n",
            "perimeter error              2.981421\n",
            "area error                  41.005035\n",
            "smoothness error             0.007171\n",
            "compactness error            0.024387\n",
            "concavity error              0.029303\n",
            "concave points error         0.011746\n",
            "symmetry error               0.020227\n",
            "fractal dimension error      0.003652\n",
            "worst radius                16.525526\n",
            "worst texture               25.708070\n",
            "worst perimeter            109.005965\n",
            "worst area                 901.507018\n",
            "worst smoothness             0.130843\n",
            "worst compactness            0.255988\n",
            "worst concavity              0.266869\n",
            "worst concave points         0.113210\n",
            "worst symmetry               0.285339\n",
            "worst fractal dimension      0.083821\n",
            "dtype: float64\n"
          ],
          "name": "stdout"
        }
      ]
    },
    {
      "cell_type": "code",
      "metadata": {
        "id": "my27flGez6c_",
        "colab_type": "code",
        "colab": {}
      },
      "source": [
        "X_train, X_test, Y_train, Y_test = train_test_split(X, Y, test_size = 0.1, stratify = Y, random_state=1)"
      ],
      "execution_count": 0,
      "outputs": []
    },
    {
      "cell_type": "code",
      "metadata": {
        "id": "gJJu4bdd05s2",
        "colab_type": "code",
        "outputId": "c11ce4e1-ba81-4fd6-9616-7649071f1c21",
        "colab": {
          "base_uri": "https://localhost:8080/",
          "height": 1000
        }
      },
      "source": [
        "print(X.mean(), X_train.mean(), X_test.mean())"
      ],
      "execution_count": 0,
      "outputs": [
        {
          "output_type": "stream",
          "text": [
            "mean radius                 14.127292\n",
            "mean texture                19.289649\n",
            "mean perimeter              91.969033\n",
            "mean area                  654.889104\n",
            "mean smoothness              0.096360\n",
            "mean compactness             0.104341\n",
            "mean concavity               0.088799\n",
            "mean concave points          0.048919\n",
            "mean symmetry                0.181162\n",
            "mean fractal dimension       0.062798\n",
            "radius error                 0.405172\n",
            "texture error                1.216853\n",
            "perimeter error              2.866059\n",
            "area error                  40.337079\n",
            "smoothness error             0.007041\n",
            "compactness error            0.025478\n",
            "concavity error              0.031894\n",
            "concave points error         0.011796\n",
            "symmetry error               0.020542\n",
            "fractal dimension error      0.003795\n",
            "worst radius                16.269190\n",
            "worst texture               25.677223\n",
            "worst perimeter            107.261213\n",
            "worst area                 880.583128\n",
            "worst smoothness             0.132369\n",
            "worst compactness            0.254265\n",
            "worst concavity              0.272188\n",
            "worst concave points         0.114606\n",
            "worst symmetry               0.290076\n",
            "worst fractal dimension      0.083946\n",
            "dtype: float64 mean radius                 14.058656\n",
            "mean texture                19.309668\n",
            "mean perimeter              91.530488\n",
            "mean area                  648.097266\n",
            "mean smoothness              0.096568\n",
            "mean compactness             0.105144\n",
            "mean concavity               0.089342\n",
            "mean concave points          0.048892\n",
            "mean symmetry                0.181961\n",
            "mean fractal dimension       0.062979\n",
            "radius error                 0.403659\n",
            "texture error                1.206856\n",
            "perimeter error              2.861173\n",
            "area error                  39.935506\n",
            "smoothness error             0.007067\n",
            "compactness error            0.025681\n",
            "concavity error              0.032328\n",
            "concave points error         0.011963\n",
            "symmetry error               0.020584\n",
            "fractal dimension error      0.003815\n",
            "worst radius                16.194275\n",
            "worst texture               25.644902\n",
            "worst perimeter            106.757715\n",
            "worst area                 871.647852\n",
            "worst smoothness             0.132592\n",
            "worst compactness            0.257415\n",
            "worst concavity              0.275623\n",
            "worst concave points         0.115454\n",
            "worst symmetry               0.291562\n",
            "worst fractal dimension      0.084402\n",
            "dtype: float64 mean radius                 14.743807\n",
            "mean texture                19.109825\n",
            "mean perimeter              95.908246\n",
            "mean area                  715.896491\n",
            "mean smoothness              0.094496\n",
            "mean compactness             0.097130\n",
            "mean concavity               0.083923\n",
            "mean concave points          0.049159\n",
            "mean symmetry                0.173981\n",
            "mean fractal dimension       0.061169\n",
            "radius error                 0.418767\n",
            "texture error                1.306656\n",
            "perimeter error              2.909946\n",
            "area error                  43.944193\n",
            "smoothness error             0.006809\n",
            "compactness error            0.023659\n",
            "concavity error              0.027989\n",
            "concave points error         0.010293\n",
            "symmetry error               0.020169\n",
            "fractal dimension error      0.003618\n",
            "worst radius                16.942105\n",
            "worst texture               25.967544\n",
            "worst perimeter            111.783860\n",
            "worst area                 960.843860\n",
            "worst smoothness             0.130357\n",
            "worst compactness            0.225973\n",
            "worst concavity              0.241340\n",
            "worst concave points         0.106994\n",
            "worst symmetry               0.276719\n",
            "worst fractal dimension      0.079852\n",
            "dtype: float64\n"
          ],
          "name": "stdout"
        }
      ]
    },
    {
      "cell_type": "markdown",
      "metadata": {
        "id": "TAYr4xxU1qfi",
        "colab_type": "text"
      },
      "source": [
        "# **Binarisation of input**"
      ]
    },
    {
      "cell_type": "code",
      "metadata": {
        "id": "LWNQWjno1wbt",
        "colab_type": "code",
        "colab": {}
      },
      "source": [
        "import matplotlib.pyplot as plt"
      ],
      "execution_count": 0,
      "outputs": []
    },
    {
      "cell_type": "code",
      "metadata": {
        "id": "C3DJP3YW16Ii",
        "colab_type": "code",
        "outputId": "3c59db9b-7679-4bd8-b517-1972f5d7d328",
        "colab": {
          "base_uri": "https://localhost:8080/",
          "height": 374
        }
      },
      "source": [
        "plt.plot(X_train.T, '*')\n",
        "plt.xticks(rotation='vertical')\n",
        "plt.show()"
      ],
      "execution_count": 56,
      "outputs": [
        {
          "output_type": "display_data",
          "data": {
            "image/png": "[encoded data removed]",
            "text/plain": [
              "<Figure size 432x288 with 1 Axes>"
            ]
          },
          "metadata": {
            "tags": []
          }
        }
      ]
    },
    {
      "cell_type": "code",
      "metadata": {
        "id": "T5FAXZQM2Ehu",
        "colab_type": "code",
        "colab": {}
      },
      "source": [
        "X_binarised_3_train = X_train['mean area'].map(lambda x: 0 if x < 1000 else 1)"
      ],
      "execution_count": 0,
      "outputs": []
    },
    {
      "cell_type": "code",
      "metadata": {
        "id": "0w0WcmS73Qnk",
        "colab_type": "code",
        "outputId": "656202ea-cad6-41f3-a0d0-95f7134f3f5f",
        "colab": {
          "base_uri": "https://localhost:8080/",
          "height": 166
        }
      },
      "source": [
        "plt.plot(x_binarised_3_train, '*')"
      ],
      "execution_count": 60,
      "outputs": [
        {
          "output_type": "error",
          "ename": "NameError",
          "evalue": "ignored",
          "traceback": [
            "\u001b[0;31m---------------------------------------------------------------------------\u001b[0m",
            "\u001b[0;31mNameError\u001b[0m                                 Traceback (most recent call last)",
            "\u001b[0;32m<ipython-input-60-ce7340558340>\u001b[0m in \u001b[0;36m<module>\u001b[0;34m()\u001b[0m\n\u001b[0;32m----> 1\u001b[0;31m \u001b[0mplt\u001b[0m\u001b[0;34m.\u001b[0m\u001b[0mplot\u001b[0m\u001b[0;34m(\u001b[0m\u001b[0mx_binarised_3_train\u001b[0m\u001b[0;34m,\u001b[0m \u001b[0;34m'*'\u001b[0m\u001b[0;34m)\u001b[0m\u001b[0;34m\u001b[0m\u001b[0;34m\u001b[0m\u001b[0m\n\u001b[0m",
            "\u001b[0;31mNameError\u001b[0m: name 'x_binarised_3_train' is not defined"
          ]
        }
      ]
    },
    {
      "cell_type": "code",
      "metadata": {
        "id": "1KMasNWR3Zn2",
        "colab_type": "code",
        "colab": {}
      },
      "source": [
        "#to apply for each every feature use Pandas library function cut\n",
        "\n",
        "X_binarised_train = X_train.apply(pd.cut, bins=2, labels=[1,0])"
      ],
      "execution_count": 0,
      "outputs": []
    },
    {
      "cell_type": "code",
      "metadata": {
        "id": "N0KZin304AJ6",
        "colab_type": "code",
        "outputId": "5b52a2e4-926d-468b-b252-f31d6f4928be",
        "colab": {
          "base_uri": "https://localhost:8080/",
          "height": 374
        }
      },
      "source": [
        "plt.plot(X_binarised_train.T, '*')\n",
        "plt.xticks(rotation='vertical')\n",
        "plt.show()"
      ],
      "execution_count": 62,
      "outputs": [
        {
          "output_type": "display_data",
          "data": {
            "image/png": "[encoded data removed]",
            "text/plain": [
              "<Figure size 432x288 with 1 Axes>"
            ]
          },
          "metadata": {
            "tags": []
          }
        }
      ]
    },
    {
      "cell_type": "code",
      "metadata": {
        "id": "qfbug-5F4Xbq",
        "colab_type": "code",
        "colab": {}
      },
      "source": [
        "X_binarised_test = X_test.apply(pd.cut, bins=2, labels=[1,0])"
      ],
      "execution_count": 0,
      "outputs": []
    },
    {
      "cell_type": "code",
      "metadata": {
        "id": "k1b753QS4jWW",
        "colab_type": "code",
        "outputId": "1c4bc46f-e526-4522-c87f-14da579a3bb9",
        "colab": {
          "base_uri": "https://localhost:8080/",
          "height": 374
        }
      },
      "source": [
        "plt.plot(X_binarised_test.T, '*')\n",
        "plt.xticks(rotation='vertical')\n",
        "plt.show()"
      ],
      "execution_count": 64,
      "outputs": [
        {
          "output_type": "display_data",
          "data": {
            "image/png": "[encoded data removed]",
            "text/plain": [
              "<Figure size 432x288 with 1 Axes>"
            ]
          },
          "metadata": {
            "tags": []
          }
        }
      ]
    },
    {
      "cell_type": "code",
      "metadata": {
        "id": "BIR3jsXj43yP",
        "colab_type": "code",
        "outputId": "f51f3cc4-9f52-41ac-c1df-a9b709b41d1f",
        "colab": {
          "base_uri": "https://localhost:8080/",
          "height": 35
        }
      },
      "source": [
        "type(X_binarised_test)"
      ],
      "execution_count": 65,
      "outputs": [
        {
          "output_type": "execute_result",
          "data": {
            "text/plain": [
              "pandas.core.frame.DataFrame"
            ]
          },
          "metadata": {
            "tags": []
          },
          "execution_count": 65
        }
      ]
    },
    {
      "cell_type": "code",
      "metadata": {
        "id": "U3f_n-vz4nmc",
        "colab_type": "code",
        "colab": {}
      },
      "source": [
        "# Converting dataFrames to numpys\n",
        "X_binarised_test = X_binarised_test.values\n",
        "X_binarised_train = X_binarised_train.values"
      ],
      "execution_count": 0,
      "outputs": []
    },
    {
      "cell_type": "code",
      "metadata": {
        "id": "LCUH39U75lvd",
        "colab_type": "code",
        "outputId": "3b665c12-821c-4ba6-8e94-d0336ed90663",
        "colab": {
          "base_uri": "https://localhost:8080/",
          "height": 35
        }
      },
      "source": [
        "type(X_binarised_test)"
      ],
      "execution_count": 67,
      "outputs": [
        {
          "output_type": "execute_result",
          "data": {
            "text/plain": [
              "numpy.ndarray"
            ]
          },
          "metadata": {
            "tags": []
          },
          "execution_count": 67
        }
      ]
    },
    {
      "cell_type": "markdown",
      "metadata": {
        "id": "7e0GwrH96Y5D",
        "colab_type": "text"
      },
      "source": [
        "# **MP Neuron Model**"
      ]
    },
    {
      "cell_type": "code",
      "metadata": {
        "id": "9RQKLkQh7hFD",
        "colab_type": "code",
        "colab": {}
      },
      "source": [
        "from random import randint"
      ],
      "execution_count": 0,
      "outputs": []
    },
    {
      "cell_type": "code",
      "metadata": {
        "id": "Rq0g1RPy6hu_",
        "colab_type": "code",
        "outputId": "b0c9aad9-dc51-4140-d8ee-837a9321d04d",
        "colab": {
          "base_uri": "https://localhost:8080/",
          "height": 69
        }
      },
      "source": [
        "# Intialising Randomly the threshold\n",
        "b = 3 \n",
        "\n",
        "i = randint(0, X_binarised_train.shape[0])\n",
        "\n",
        "print('For row', i)\n",
        "\n",
        "if (np.sum(X_binarised_train[100, :]) >= b):\n",
        "  print('MP nueron inference is Malignant')\n",
        "else:\n",
        "  print('MP nueron inference is Benign')\n",
        "\n",
        "if(Y_train[i]==1):\n",
        "  print('Ground Truth is Malignant')\n",
        "else:\n",
        "  print('Ground Truth is Benign')\n",
        "\n",
        " # Goal is approximate value of b for which most inferences would be correct "
      ],
      "execution_count": 69,
      "outputs": [
        {
          "output_type": "stream",
          "text": [
            "For row 67\n",
            "MP nueron inference is Malignant\n",
            "Ground Truth is Malignant\n"
          ],
          "name": "stdout"
        }
      ]
    },
    {
      "cell_type": "code",
      "metadata": {
        "id": "y_2x148B8WKY",
        "colab_type": "code",
        "outputId": "9be7af81-2ce3-4dd1-dde5-10db37c1daa2",
        "colab": {
          "base_uri": "https://localhost:8080/",
          "height": 35
        }
      },
      "source": [
        "b = 3\n",
        "\n",
        "Y_pred_train = []\n",
        "accurate_rows = 0\n",
        "\n",
        "for x, y in zip(X_binarised_train, Y_train):\n",
        "  y_pred = (np.sum(x) >= b) #Inference of model\n",
        "  Y_pred_train.append(y_pred)\n",
        "  accurate_rows += (y == y_pred) # comparing ground truth\n",
        "\n",
        "print(accurate_rows, accurate_rows/X_binarised_train.shape[0])\n"
      ],
      "execution_count": 70,
      "outputs": [
        {
          "output_type": "stream",
          "text": [
            "321 0.626953125\n"
          ],
          "name": "stdout"
        }
      ]
    },
    {
      "cell_type": "code",
      "metadata": {
        "id": "3k4Z5qaBAnJL",
        "colab_type": "code",
        "colab": {
          "base_uri": "https://localhost:8080/",
          "height": 555
        },
        "outputId": "20036545-63bf-478d-8700-0118be77ddf9"
      },
      "source": [
        "for b in range(X_binarised_train.shape[1] + 1):\n",
        "  Y_pred_train = []\n",
        "  accurate_rows = 0\n",
        "\n",
        "  for x, y in zip(X_binarised_train, Y_train):\n",
        "    y_pred = (np.sum(x) >= b) #Inference of model\n",
        "    Y_pred_train.append(y_pred)\n",
        "    accurate_rows += (y == y_pred) # comparing ground truth\n",
        "\n",
        "  print(b, accurate_rows/X_binarised_train.shape[0])\n",
        "\n",
        "# By looking at each increasing iteration the model is not doing better in any way. To know whats happening,\n",
        "# let's dig into Data Analysis: Look at Mean data by 'class'\n",
        "# Observation: when it is Benign(0) it turns out that feature value is larger than in case with Malignant (1)\n",
        "# Doing Binarisation is not good in this case, so we flip the labels in binarisation \n",
        "# The feature having smaller value contribute more for Malignant\n",
        "#"
      ],
      "execution_count": 71,
      "outputs": [
        {
          "output_type": "stream",
          "text": [
            "0 0.626953125\n",
            "1 0.626953125\n",
            "2 0.626953125\n",
            "3 0.626953125\n",
            "4 0.626953125\n",
            "5 0.626953125\n",
            "6 0.626953125\n",
            "7 0.626953125\n",
            "8 0.626953125\n",
            "9 0.626953125\n",
            "10 0.626953125\n",
            "11 0.626953125\n",
            "12 0.626953125\n",
            "13 0.62890625\n",
            "14 0.634765625\n",
            "15 0.638671875\n",
            "16 0.642578125\n",
            "17 0.650390625\n",
            "18 0.65625\n",
            "19 0.6640625\n",
            "20 0.66796875\n",
            "21 0.69140625\n",
            "22 0.7109375\n",
            "23 0.7421875\n",
            "24 0.76953125\n",
            "25 0.80859375\n",
            "26 0.826171875\n",
            "27 0.84375\n",
            "28 0.84375\n",
            "29 0.826171875\n",
            "30 0.755859375\n"
          ],
          "name": "stdout"
        }
      ]
    },
    {
      "cell_type": "code",
      "metadata": {
        "id": "oVddlB0eFdoH",
        "colab_type": "code",
        "colab": {}
      },
      "source": [
        "from sklearn.metrics import accuracy_score"
      ],
      "execution_count": 0,
      "outputs": []
    },
    {
      "cell_type": "code",
      "metadata": {
        "id": "MhVnPxyFBHP4",
        "colab_type": "code",
        "outputId": "5fc316b9-d56b-4d60-fa17-5700b1129a8a",
        "colab": {
          "base_uri": "https://localhost:8080/",
          "height": 35
        }
      },
      "source": [
        "b = 28\n",
        "Y_pred_test = []\n",
        "\n",
        "for x in X_binarised_test:\n",
        "  y_pred = (np.sum(x) >= b) #Inference of model\n",
        "  Y_pred_test.append(y_pred)\n",
        "accuracy = accuracy_score(Y_pred_test, Y_test)\n",
        "\n",
        "\n",
        "print(b, accuracy)\n"
      ],
      "execution_count": 73,
      "outputs": [
        {
          "output_type": "stream",
          "text": [
            "28 0.631578947368421\n"
          ],
          "name": "stdout"
        }
      ]
    },
    {
      "cell_type": "markdown",
      "metadata": {
        "id": "Kxq6Ic3mIjyh",
        "colab_type": "text"
      },
      "source": [
        "# **MP Neuron Class**"
      ]
    },
    {
      "cell_type": "code",
      "metadata": {
        "id": "DUlPAswXIpl_",
        "colab_type": "code",
        "colab": {}
      },
      "source": [
        "class MPNeuron:\n",
        "\n",
        "  def __init__(self):\n",
        "    self.b = None\n",
        "\n",
        "  def model(self, x):\n",
        "    return(sum(x) >= self.b)\n",
        "  \n",
        "  def predict(self, X):\n",
        "    Y = []\n",
        "    for x in X:\n",
        "      result = self.model(x)\n",
        "      Y.append(result)\n",
        "    return np.array(Y)\n",
        "\n",
        "  def fit(self, X, Y):\n",
        "    accuracy = {}\n",
        "\n",
        "    for b in range(X.shape[1]+1):\n",
        "      self.b = b\n",
        "      Y_pred = self.predict(X)\n",
        "      accuracy[b] = accuracy_score(Y_pred, Y)\n",
        "    best_b = max(accuracy, key = accuracy.get)\n",
        "    self.b = best_b\n",
        "\n",
        "    print(\"Optimal value of b is:\", best_b)\n",
        "    print('Highest Accuracy is:', accuracy[best_b])"
      ],
      "execution_count": 0,
      "outputs": []
    },
    {
      "cell_type": "code",
      "metadata": {
        "id": "b8kbNUDVLVxQ",
        "colab_type": "code",
        "outputId": "d3004994-2471-4188-a75e-908ce91d6a71",
        "colab": {
          "base_uri": "https://localhost:8080/",
          "height": 52
        }
      },
      "source": [
        "mp_neuron = MPNeuron()\n",
        "mp_neuron.fit(X_binarised_train, Y_train)"
      ],
      "execution_count": 75,
      "outputs": [
        {
          "output_type": "stream",
          "text": [
            "Optimal value of b is: 27\n",
            "Highest Accuracy is: 0.84375\n"
          ],
          "name": "stdout"
        }
      ]
    },
    {
      "cell_type": "code",
      "metadata": {
        "id": "e51uramCLo97",
        "colab_type": "code",
        "colab": {}
      },
      "source": [
        "Y_test_pred = mp_neuron.predict(X_binarised_test)\n",
        "accuracy_test = accuracy_score(Y_test_pred, Y_test)"
      ],
      "execution_count": 0,
      "outputs": []
    },
    {
      "cell_type": "code",
      "metadata": {
        "id": "gaD0yUosNoZP",
        "colab_type": "code",
        "outputId": "a232d0ce-5ecb-4a19-e0d5-f604d818760f",
        "colab": {
          "base_uri": "https://localhost:8080/",
          "height": 35
        }
      },
      "source": [
        "print(accuracy_test)"
      ],
      "execution_count": 77,
      "outputs": [
        {
          "output_type": "stream",
          "text": [
            "0.7192982456140351\n"
          ],
          "name": "stdout"
        }
      ]
    },
    {
      "cell_type": "markdown",
      "metadata": {
        "id": "m-QZFs3G0eyf",
        "colab_type": "text"
      },
      "source": [
        "# **Perceptron Class**"
      ]
    },
    {
      "cell_type": "markdown",
      "metadata": {
        "id": "1HrD__i51egh",
        "colab_type": "text"
      },
      "source": [
        "$y=1, if\\sum_i w_i x_i >= b\n"
      ]
    },
    {
      "cell_type": "code",
      "metadata": {
        "id": "JMGWwcsK7lZe",
        "colab_type": "code",
        "colab": {}
      },
      "source": [
        "X_train = X_train.values\n",
        "X_test = X_test.values"
      ],
      "execution_count": 0,
      "outputs": []
    },
    {
      "cell_type": "code",
      "metadata": {
        "id": "taeImd0q1Sof",
        "colab_type": "code",
        "colab": {}
      },
      "source": [
        "class Perceptron:\n",
        "  \n",
        "  def __init__(self):\n",
        "    self.w = None\n",
        "    self.b = None\n",
        "\n",
        "  \n",
        "  def model(self, x): # Given x compute y\n",
        "    return 1 if (np.dot(self.w, x) >= self.b) else 0\n",
        "\n",
        "  def predict(self, X):\n",
        "    Y = []\n",
        "    for x in X:\n",
        "      result = self.model(x)\n",
        "      Y.append(result)\n",
        "    return np.array(Y)\n",
        "\n",
        "  def fit(self, X, Y, epochs = 1, lr = 1):\n",
        "    self.w = np.ones(X.shape[1])\n",
        "    self.b = 0\n",
        "    \n",
        "    accuracy = {}\n",
        "    max_accuracy = 0\n",
        "\n",
        "    wt_matrix = []\n",
        "\n",
        "    for i in range(epochs):\n",
        "      for x, y in zip(X, Y):\n",
        "        y_pred = self.model(x)\n",
        "        if y == 1 and y_pred == 0:\n",
        "          self.w = self.w + lr * x\n",
        "          self.b = self.b + lr * 1\n",
        "        if y == 0 and y_pred == 1:\n",
        "          self.w = self.w - lr * x\n",
        "          self.b = self.b - lr * 1\n",
        "        \n",
        "      wt_matrix.append(self.w) \n",
        "      \n",
        "      accuracy[i] = accuracy_score(self.predict(X), Y)\n",
        "      if accuracy[i] > max_accuracy:\n",
        "        max_accuracy = accuracy[i]\n",
        "        chkptw = self.w # Purpose of checkpointing is to keep track of maximum accuracy\n",
        "        chkptb = self.b\n",
        "    self.w = chkptw\n",
        "    self.b = chkptb\n",
        "    print(max_accuracy)\n",
        "\n",
        "    plt.plot(np.fromiter(accuracy.values(), dtype=float))\n",
        "    plt.ylim([0,1])\n",
        "    plt.show()\n",
        "    return np.array(wt_matrix)\n",
        "\n",
        "# Learning rate is used to smoothen the up's down's, and it's fraction bewteen 0 and 1"
      ],
      "execution_count": 0,
      "outputs": []
    },
    {
      "cell_type": "code",
      "metadata": {
        "id": "KGD5Nnjr7Tui",
        "colab_type": "code",
        "colab": {}
      },
      "source": [
        "perceptron = Perceptron()"
      ],
      "execution_count": 0,
      "outputs": []
    },
    {
      "cell_type": "code",
      "metadata": {
        "id": "nNDjkD_O7rU0",
        "colab_type": "code",
        "colab": {
          "base_uri": "https://localhost:8080/",
          "height": 287
        },
        "outputId": "9bdf7f84-50fb-4718-fabc-6f99755109c4"
      },
      "source": [
        "# Here epochs are hyper parametee, as this defines the accuracy of model even though it is not directly used in Model as parameter\n",
        "wt_matrix = perceptron.fit(X_train, Y_train, 100)"
      ],
      "execution_count": 209,
      "outputs": [
        {
          "output_type": "stream",
          "text": [
            "0.921875\n"
          ],
          "name": "stdout"
        },
        {
          "output_type": "display_data",
          "data": {
            "image/png": "[encoded data removed]",
            "text/plain": [
              "<Figure size 432x288 with 1 Axes>"
            ]
          },
          "metadata": {
            "tags": []
          }
        }
      ]
    },
    {
      "cell_type": "code",
      "metadata": {
        "id": "EFwGDEVy8F9T",
        "colab_type": "code",
        "colab": {}
      },
      "source": [
        "plt.plot(perceptron.w)\n",
        "plt.show()"
      ],
      "execution_count": 0,
      "outputs": []
    },
    {
      "cell_type": "code",
      "metadata": {
        "id": "I69nta0_9HcY",
        "colab_type": "code",
        "colab": {
          "base_uri": "https://localhost:8080/",
          "height": 35
        },
        "outputId": "8d888cb9-7acf-417c-934a-ffbf3262e62a"
      },
      "source": [
        "Y_pred_train = perceptron.predict(X_train)\n",
        "print(accuracy_score(Y_pred_train, Y_train))"
      ],
      "execution_count": 190,
      "outputs": [
        {
          "output_type": "stream",
          "text": [
            "0.921875\n"
          ],
          "name": "stdout"
        }
      ]
    },
    {
      "cell_type": "code",
      "metadata": {
        "id": "ovayC9rC9W-H",
        "colab_type": "code",
        "colab": {
          "base_uri": "https://localhost:8080/",
          "height": 35
        },
        "outputId": "8f458784-5951-4996-c524-50b5f94ddb33"
      },
      "source": [
        "Y_pred_test = perceptron.predict(X_test)\n",
        "print(accuracy_score(Y_pred_test, Y_test))"
      ],
      "execution_count": 186,
      "outputs": [
        {
          "output_type": "stream",
          "text": [
            "0.9473684210526315\n"
          ],
          "name": "stdout"
        }
      ]
    },
    {
      "cell_type": "code",
      "metadata": {
        "id": "_hahQyOp-7yl",
        "colab_type": "code",
        "colab": {
          "base_uri": "https://localhost:8080/",
          "height": 265
        },
        "outputId": "713afba7-14ef-4170-9c31-0404b9eef611"
      },
      "source": [
        "plt.plot(wt_matrix[-1,:])\n",
        "plt.show()"
      ],
      "execution_count": 211,
      "outputs": [
        {
          "output_type": "display_data",
          "data": {
            "image/png": "[encoded data removed]",
            "text/plain": [
              "<Figure size 432x288 with 1 Axes>"
            ]
          },
          "metadata": {
            "tags": []
          }
        }
      ]
    },
    {
      "cell_type": "code",
      "metadata": {
        "id": "FQjIIG-BeZt4",
        "colab_type": "code",
        "colab": {}
      },
      "source": [
        "%matplotlib inline\n",
        "from matplotlib import animation, rc\n",
        "from IPython.display import HTML"
      ],
      "execution_count": 0,
      "outputs": []
    },
    {
      "cell_type": "code",
      "metadata": {
        "id": "wiFQ-s9ceg6W",
        "colab_type": "code",
        "colab": {
          "base_uri": "https://localhost:8080/",
          "height": 265
        },
        "outputId": "9a684606-85ff-443b-9e19-3f9be3c61217"
      },
      "source": [
        "# First set up the figure, the axis, and the plot element we want to animate\n",
        "fig, ax = plt.subplots()\n",
        "\n",
        "ax.set_xlim(( 0, wt_matrix.shape[1]))\n",
        "ax.set_ylim((-15000, 35000))\n",
        "\n",
        "line, = ax.plot([], [], lw=2)"
      ],
      "execution_count": 219,
      "outputs": [
        {
          "output_type": "display_data",
          "data": {
            "image/png": "[encoded data removed]",
            "text/plain": [
              "<Figure size 432x288 with 1 Axes>"
            ]
          },
          "metadata": {
            "tags": []
          }
        }
      ]
    },
    {
      "cell_type": "code",
      "metadata": {
        "id": "xBpu5w0afssr",
        "colab_type": "code",
        "colab": {}
      },
      "source": [
        "# animation function. This is called sequentially\n",
        "def animate(i):\n",
        "    x = list(range(wt_matrix.shape[1]))\n",
        "    y = wt_matrix[i,:]\n",
        "    line.set_data(x, y)\n",
        "    return (line,)"
      ],
      "execution_count": 0,
      "outputs": []
    },
    {
      "cell_type": "code",
      "metadata": {
        "id": "8eeZNPn0f1c4",
        "colab_type": "code",
        "colab": {}
      },
      "source": [
        "# call the animator. blit=True means only re-draw the parts that have changed.\n",
        "anim = animation.FuncAnimation(fig, animate, frames=100, interval=200, blit=True)"
      ],
      "execution_count": 0,
      "outputs": []
    },
    {
      "cell_type": "code",
      "metadata": {
        "id": "e04G7nVJgENw",
        "colab_type": "code",
        "colab": {
          "base_uri": "https://localhost:8080/",
          "height": 309
        },
        "outputId": "66623a93-f728-4296-affd-390a4fd2ee34"
      },
      "source": [
        "HTML(anim.to_html5_video())"
      ],
      "execution_count": 223,
      "outputs": [
        {
          "output_type": "execute_result",
          "data": {
            "text/html": [
              "<video width=\"432\" height=\"288\" controls autoplay loop>\n",
              "  <source type=\"video/mp4\" src=\"data:video/mp4;base64,AAAAHGZ0eXBNNFYgAAACAGlzb21pc28yYXZjMQAAAAhmcmVlAABx9W1kYXQAAAKtBgX//6ncRem9\n",
              "5tlIt5Ys2CDZI+7veDI2NCAtIGNvcmUgMTUyIHIyODU0IGU5YTU5MDMgLSBILjI2NC9NUEVHLTQg\n",
              "QVZDIGNvZGVjIC0gQ29weWxlZnQgMjAwMy0yMDE3IC0gaHR0cDovL3d3dy52aWRlb2xhbi5vcmcv\n",
              "eDI2NC5odG1sIC0gb3B0aW9uczogY2FiYWM9MSByZWY9MyBkZWJsb2NrPTE6MDowIGFuYWx5c2U9\n",
              "MHgzOjB4MTEzIG1lPWhleCBzdWJtZT03IHBzeT0xIHBzeV9yZD0xLjAwOjAuMDAgbWl4ZWRfcmVm\n",
              "PTEgbWVfcmFuZ2U9MTYgY2hyb21hX21lPTEgdHJlbGxpcz0xIDh4OGRjdD0xIGNxbT0wIGRlYWR6\n",
              "b25lPTIxLDExIGZhc3RfcHNraXA9MSBjaHJvbWFfcXBfb2Zmc2V0PS0yIHRocmVhZHM9MyBsb29r\n",
              "YWhlYWRfdGhyZWFkcz0xIHNsaWNlZF90aHJlYWRzPTAgbnI9MCBkZWNpbWF0ZT0xIGludGVybGFj\n",
              "ZWQ9MCBibHVyYXlfY29tcGF0PTAgY29uc3RyYWluZWRfaW50cmE9MCBiZnJhbWVzPTMgYl9weXJh\n",
              "bWlkPTIgYl9hZGFwdD0xIGJfYmlhcz0wIGRpcmVjdD0xIHdlaWdodGI9MSBvcGVuX2dvcD0wIHdl\n",
              "aWdodHA9MiBrZXlpbnQ9MjUwIGtleWludF9taW49NSBzY2VuZWN1dD00MCBpbnRyYV9yZWZyZXNo\n",
              "PTAgcmNfbG9va2FoZWFkPTQwIHJjPWNyZiBtYnRyZWU9MSBjcmY9MjMuMCBxY29tcD0wLjYwIHFw\n",
              "bWluPTAgcXBtYXg9NjkgcXBzdGVwPTQgaXBfcmF0aW89MS40MCBhcT0xOjEuMDAAgAAADhRliIQA\n",
              "Ev/+963fgU3AQO1rulc4tMurlDQ9UfaUpni2SAAAAwADjh6zXRqSe5rQaAAFyZoHnr/P+YCaBdrh\n",
              "NBtedRjmISFGI+rOmGWWKfCNmkXVlY9UKuvbebKunb4nruFtVAgpI2NZGasRxCIAM4aYJ0yQ1EXP\n",
              "cuDRfcABrKCSiEoQce9o5RsOlTsa2atzEBGLmuWR4wrUrx8rRmEGgPhmb5fWVOzhuijc1rvj2qHj\n",
              "XwgfEiBIacJUEfuUtV652tcIFkxXpaGISRQ8r5opOZLxlXkAmX0qXwHldTvLCXMgJBxkmFA4Ocbw\n",
              "mr3MWlHSKC2nasML8QB1HqPxL+8fU0Ch354BDqNTw/Ose2S2HyqcQ2wVhCL1r/MVf3BiDSg5NIPc\n",
              "Qeux4RfLY3tVBnhs1s7XTqYPkZjDZ0eEtU0IEzLt5be6CzatW/C/u4CSfqv2HkURE6G6NT2Bdv8M\n",
              "YaKmVFhwdyz6LfFX8uCgs5kl5s3WgAAHCBptI7uqzNoIU0yxwb3K5n/idvfE1wWFCg0WSgbILZfJ\n",
              "ukfEbxszUUNHMgJtBg4eMyGpT7Gh9FXZmsfCb/dGz7Pc5ljKoxuVrIO8en0LuaaTfF7ZiNZCRzXs\n",
              "1jewlqlgtPrRF3aBjQAupMoGtf3AnEowAAAh1wsZ8kKfKcdB4o8nhSki6/m9PmaVCT1mcdZU4RUA\n",
              "Xp+JyNr2qQp2Toe9wzGTW6uMmMqiCp559DE+9KW52pz5sN2WQkR8uZFzoRq7CJuQMAABDCnjdB9+\n",
              "sI7i3kXpv0HvUUdMEK5/8o2ynMbzn5E41iamGY3wo06D5vfoF11BRLDlIK1Uvzq1xRxgZOe+EAU1\n",
              "SY+vm0kPRN5y/VMdJCLgnNUfqX6MIv/ckYspSstrsIN0Ik2UYJko+8jehpB4Z4buhI3Ljpr6pSmu\n",
              "pkCfB/l9PNZ0QDyUwaKFa3qa2DcSEx3SCquMklwO3dCyPoYtsioFCC8TW13ap6NXL0Qx1hlPR0kl\n",
              "sVw3ViRfMBG6PU73TqZ8kAmeSu3lyGU7WsJCgF256dhYx+dLj+VcgEca0+nctGtBmxOOFApQmmQC\n",
              "KFbyMon3sH5Vlh+f2N696cTaKhV1TPHRgaAkbQeEWhR1/BqRC8os4ANy/UFe1MJkxfwu40Y36Zg2\n",
              "O0Haq1ev6UFE0qQ1cXIvDi3gU0Jqsx5pdhODBjKQrcC4KQgXzq5P5ib1kYn0wotyAcKVbDA5G2lT\n",
              "gL1/UhyzGKuZTHSiwNQ8fDDiclDkfMX75UQg7DLxMMlyaXP+EbYc9XIG1CoFCR0cOKPE5+cQCr5h\n",
              "vnSL95Ffjs1tvOSxz5yGXO3/8YMVA3haYaFqRAhHk46cpO9GfcCO7wj4JjYh7egRjpSUZLg3OZ5o\n",
              "OGkXQWjOZzfE7AuyISq/TRz96SR/+sXohzvXl837ny491tWOfDgG+XZe7rI2auP8556DkQR4IMV9\n",
              "p+M7Yw3KBQG3Cw8/Nem7hV7bvOVd8r9Sy2G9ky+PXtpjYNnYMQR1P0MGKmWkZvdWMOdXkObz1u+7\n",
              "yJOUCq1hOwztx6Ttg3avOi8vXzxDXmoU4eK75UlADOw6bOfCJ0UbabctnNXi+IXAdDBtm1X4VE3z\n",
              "AjhNudR0Kkc/82lSzlRB4S/IPJUv2zLn79Jwe2Ix5ZCSJJAd/o8UdYEy4Q4MtujnRv455hoKtnLv\n",
              "p0JeZO+th/+DKE1mGV4oHaIItEB8vFfs4dIlGGXuBPMIbChsqK+FLhyjLwIfnGMypz9FvG9I4CnL\n",
              "z5yFqnnmdjXH3p+1n6Wpmqb/OPxP6b2OUdLxz9sbLmkgoeYMU3ZGXZCCsaZUq4+XrWkbRDR7kjUi\n",
              "PWvwjTYrDLIQ3usSPNeT04xit/jVAaDBKJW84/hAJAgERghWvIinxqYK/QPzRiR65PQx9LUb6RXQ\n",
              "Z/rKvHGbk8XRq6GbQrAiED8qfQPVQ2cg62x5WFwPmrcWkn92sDcDTlPR4Kd/t4gwBauhKHb/gUTc\n",
              "NlL04r2r/tN/8U+3pwO2PLzZE4yOsYAHrOaYvSdOaNwjJh/xPozYl3rIbaF89ez7Wqu93rT+MUop\n",
              "jf49Iqt8LBywddFEk45hTSXfaZ1pUKVuZmfVoZXkpyt7t3w9o3K3qb+DIQz3zy6VJOl86rlbhpvg\n",
              "RP26RmDLFfAL9Ec3vYzfNPp6j5iLD5iIWqfms4Gl8qZrn2ny77P7vexue6rmck2eHOCBPjdM6mcY\n",
              "wkOIVbhDfDI3v7LwJB3ZKYMUbJ5SJ6xapg1uxBmVNsi4Y71fhqCgQFZrhDxojjFwK9ZIGNaJ/LMI\n",
              "d/kas8i3IOX42HboUjG676n2n7W/lB4cJbyOwwWOrzYkFJzmzXraYyvcAktRD5FHcQ+VhKgi3bm4\n",
              "AHdMX/btwBFs+s/UEZ5Y42aCqvnI7OKMsNtlaqG/Q4xCeB/JO5jr11og4u6yk594seYDg/RFyh6I\n",
              "HtPYU5clcCLsMRBu6F6p0DyjIiEyE/hNLYfmmbrKQ+Xd22wjlwkOXJaAem9kkkB3jTGUBOuQOnRo\n",
              "7MfD2Ves3XahQws1QWtwAVGsjJRxXUYfi6g6xyYOoOOnnGlQdjK6A0FwZuedxKk/NFNNS3SFIVZS\n",
              "zJm0iwi+B00BoXTSBM07f6AmDe04uTy5TiV7V1g0CNUY1AjG/G+xP2fRlxZ+HGcfuCs9EIGExLFt\n",
              "ZRJR5uh5BjflCDQxh5qoEGb96d+GZdQ9IpJn2etcEYjPLvkL13QeD5koR9UMJLswDkcg2h136NPW\n",
              "bIJMWvDAAtnWTIWU9jKu0BWKNnNaoK1JP7cVV5AbQkQ0AQn86y4vKU2cnyOO6si0YwBtvaPTmc+6\n",
              "5qZMbZquhIADIL3iiuqLOnvpFzN9TO7mUIyhyWX3nP5D/uJvmpKTEWm/expaLkTfcrK8WKpNr+G4\n",
              "xkjronUA4aI5xpEeQ8cWP338YhNh63dcHnCVXc3r6C6SeGLKPHdb45i+7bL+pmvIvRNvSoYlarZH\n",
              "sD3oksfh/j5X8IqB5Wr7u7/RUPWbFUKVCXTzAniOnZphnzGDb0U8MzKEEVzdC5MAlvKNucioSRaV\n",
              "BBKvdoToekNirVb+X0YtooCj7T0y1PbDWaZdD5ahwyUZnALCJj+f55mzy/UuCUVHDdvnL4qioacf\n",
              "UN81cn312Ijtg8D0l8IK5AxXXjG98q/274rNCCy37IEv20yyNZ5KjcDdKYiv4b7/elhGG3IuXWeR\n",
              "FKe5ZlC7Cv8kPqFACNNBR9aTRDZu5mANmNEg+yhMF5hYq5u3+taFI+V0Se+D1NJA064Ir+6b6Lu7\n",
              "fAi7gYdpgU8b/brb7rq4pGrDvnDK8XmcFgxNkPz24Z4jQ1AHZzyI1dD1VHFD+Dpwo8mlbyM2QFtG\n",
              "2pKR78AaAmDUcKP60nqhoYdkW5XLO+FHeATtqPg0EUERvPQ3ncvHEfuuCQTjQ2OzZJTbS43QQvc+\n",
              "OtEMqPvyDj3xgIU6xpyTww9WsPYDDOckHrivSzlPVViUhfJhDv8dAV28V2GUC3lptvAybnQVbEph\n",
              "isfa5a0jYGA5ybmzBExeM3TYGgelKmJp70RxF4CluN2KzQwa6ZTERABjJa+h42uAGSiBWQNzVd9f\n",
              "tEnlTqnbt1rHJVIiE0YhErtgjTsQOuwgNeIPPzLr22xGAeXB1EPhOyNAZo2DzIvZhlbeqmnASQm6\n",
              "lb5g55USliZKhbuifxvARZt1/UVQtfHS2rseH+ifxvARZtxGXbltTD69mHL8NYfjXemCqJCqFRfr\n",
              "4VA6f2qcPpOnuZAzjigCZTlV3WKySrcgPNOy+YI/YQ3BNuhP/Z9GMLqgSB+BPTuUUYCXEMlLqtfS\n",
              "95qXzJAaGlC016j9WXWCh5iHj6s+HHHzdFdqRa4Xu+cKxYjN0lR8DqIFp+2HQuobrrWxS7eJNWyP\n",
              "/1fBZ8y3K6wFAFRoTbMMgtZfcU1nJ8MMBQHxylgVj0T01qeefMnAp+2KwouLNnisM03PUTP9agAu\n",
              "AaLjP9bG8sntYqdVrxmPpT/gwnT0/sLjby1+0rNAJlGQ6ccuesM61q0fFfi7GV1TbGGnI6drz/TR\n",
              "bBhFgHDPDlBg4hW1vabdvLkNuIRfK/D+wwcROh40E+erEDX5M7lbedp5V8Is0i94zSCUkGrcvUrn\n",
              "5Y/f2ydCTxZNpvLXQW68lpSuS2ZqHBUxp7A3jFfDxBll6ClBPTS0wWnV9HSmtvciTVllaW8FeWpV\n",
              "m99yJ6CZvlJcPrDq6Qt8r+StkYX+nDnJX1gHOkcECoE2wdDwQkF88sc2+Ssmyjx7OZ7Mp4GSmizp\n",
              "exUW+oow2jgZtou1dXVVXmc73fHNlMg1fbReTBDD8z9IZtF9zJfXIqmjsTkL3JV5ckaPDUcGN3Fh\n",
              "neNBSKZQKDxbYW8A+A0Cyh/RB5/Goe/IxV2QjXWQaGo4KrSYCCZZO8FWi+4RgXu9AYVnre/CINiQ\n",
              "CiunjqbxFk5NEkfVjbwKwaAEXQhP/c/oZUe0eYVsYrTYI/1eEK+64HvI4ksYy41jSHBqg86ytEUs\n",
              "CfPdElVB6/0ghf96B6MBzmK3u/fDlplhNnMJWx4W98Yd5KhwCze8ezCeiBIsrcUE+pbwP6mLlYQu\n",
              "T8X2EBnuC+2Q3luyjsD/HfR5+38GQS1+UAV+wgxGT/UdenrSIODZqGI9vQ4QseB3aQXslW0pDSOP\n",
              "+7+qSviYYHakTh1XCDvug352SxkeU1VN5moYntXzK822RiHmoklRt4+WtxWsNWrE4lJie/51IRkj\n",
              "e5i3QkrgzpuFxnIVow/0qz1ae/RE+MOjbZA6bZjD4nBr2qppGtZ2aYsbVn+nL5HfhARUko+51J0W\n",
              "D+KUxQAD5AG7AAAFWkGaImxBL/61KoAOO6HbgHv0LG3ZWmuxm1n+zsadZrH0JIernvJ0nBAJQLyk\n",
              "iLnQNXoKj84qAkCxwGu9spx/nELF4eGljPpEwkagpfGFrmpP4Sonsz3r9PJdvccvejoYXf4RJ3XI\n",
              "oOtesyYQVIB0fpnwGjPCK3I9Ef/ueT75nkX4SrgThQMeNoCKl4EmiMSKM+SGLiGsmseH3lw0AFRC\n",
              "M4h4TKc5o/QGRWG3bwHcSXUX0RqjBBqNn8MJFxFb9kT9sqi12nsbUDfb5mqOHF5fG1ist41U2beg\n",
              "N7DUN7O4WBEzM7+iHkTa4dZZLNmDkIHSbPLm7M3G6tO6lcOaEabZEla3sXtElDXBIVShCa4ey2pp\n",
              "EysqHOuSsi89RNI9yWMdkOdZzQWSzeHpDECRYMBg53WczlKz1QXpEJsYuGBkwW/YVyHt3oqNbZqN\n",
              "ZHTq8e1b7U/4cIOLnbFbOWLMHY68t9kAgToq/1xJxcOyI6KF/t9nnza9IatQ9dM8fWyIHgEBC+EL\n",
              "2INS5u4Bf11MeSxjexLWqwSz5eFq0OrDVw2Ft9btfLPJI6ke9TS4EI1iFW5NU4KM/YNyLIrZ9yTP\n",
              "PrVIu47vdFX5vGaNxm+1puFIj9UL/qrriLWHCDEhsqQGj/s9Foq/eliQd5st07phZWk6Sgj6cubH\n",
              "sYDH6STPAEKIXudz/fRusj79rFeO0y3qt4E3mbCULyqpSXM7DP635fKJdUJFM2lm0ft2Uf2zJQ67\n",
              "MtFIyj+Lwf0RVIeyc5hUeL5BGrBSDNkQuxvfX1KlDEg/SGPxlDh9tvMUI/3h16p1J7gddguTEz45\n",
              "m8gdX5JVApyAVfAmaYbZZGfbCvZ1Z7xCUzSHfEANDXKkjNdjIRqMAZJJ8RPB4STHxrIeEN8R45Rw\n",
              "axGV0GJY64ztbfDmW16S4UlewF+blUn5qpjq7ieiuGd6KOGnS3CNSnfOXh/fVBFOOJSvyZhRlFk2\n",
              "BA1nKSxGoxuzeynG7a2GCc5kaDC0zkRxmFjaeRrZWQK/1kJkFKbtB7Xt42LgNrEGYKcygoQ1BBqV\n",
              "E1q8qQeVYEwSf7brnKmSmCF9mp1EXXUQ3dZkD2VmdkqJ32ZjSPfwHvkMSqDAHv/K0AzvH/d2lpSZ\n",
              "dFVQGpNNeEOXo+vkwGBi4mDiZdMxqPwClz32tsnnU9XWU+zJYaUr84QqMXAbC55fi5PoB2GA8mTs\n",
              "6uC3MorJJxsXfHlthC7UszHdzej8IlQsUBMVpfmdXaMu3SZb1DzSS5j9GxLzF6epCABmzAkuU4mi\n",
              "IlKVq+lEvA5ym34uvG1Ae9fV6Rl+JMmTWiclpw0Muk4wlLS4L5j/VwEY/QbTMyI7rO/rpNiLUyyF\n",
              "/7KTWPNxQZBhc7jRDWrJbTZeyiuH6HeckQofLuzCmUXdRC+LlRhREVvJ1jGFs0SlgWjIlvKaryyC\n",
              "IVOcWPFtrI+/EZyPP7khw4T1toq5Ca5Bnx59LUc34rjplNF2+hAjkoCn/np9tU5BJiGPUp7hME3v\n",
              "8haV+vcNPiwZIribuROXqyz6Y+nRPzH+Cvo4cMIDnNL/1rn6+CJbXDRzkqJc5dLt+zKSGbaUjje7\n",
              "KdcaKWXZ+8JGLMCeXagQWLTKyYnzF7V2NqEqYEssDvcSABwUurTAFeZpzkdCDOrapVwd/qtxvBRs\n",
              "Ykk0R83bmAo6OQ2f0YjN1FyHBKTC3cism6boaQtF1nu4ncVtLB5u5FcJ58ubUUDRA8VQND2ZwBpS\n",
              "6r5s8ORP8Gj9vgPzYsYRzoXX6XSR64BhtFTR1/JIbgFGsv979ix2pwbDBxdOFWpVYEusLYWVuHTM\n",
              "nqnaSlCBYb6aQyLX3q2YAAAA8QGeQXkP/wAKOpZ3Cv7HrCNAAOZgFK6AEsoaIQD7W6H1pCjNG1+2\n",
              "GgR5PGTRI6k3gr53ZOamSQ5TzxPEpEpvf0q9bC+dXAmwB2+iNx2qG68GVI4jYULDIEpI+u/U3fGL\n",
              "HVbszfBHXImayP8J0PL26HppZU/tCZgRUiqKSvp5PpHVzkfgpFwbifK25HZfc5DLyBBBUcNxnrQq\n",
              "ARmOBQdhM5va5w/Akig4czD5/88/QqLpemuM6emDq+Ev8d7GMIugiBfB7z+zd7seux5H6TRjR0au\n",
              "wUsttaMwOh9fkcgKsTpuaZxq3wYjRhJv6i3BQdcQl4EAAAMKQZpDPCGTKYQS//61KoAAN7ZPwqUA\n",
              "QFF1wab7tH8Mt7Fr3HeEZt9uJTCiZgFFSrVrtRfAkbYn63PaFHGZoAc6oXvqKCi3iwAY6xrMMACp\n",
              "beYWxJkUURbQ1y1ag/Lxzlw0pJ9waQONSXGivmB2yJ/edHxcT1fGLXDmy2quhdjBj/GNq91wybqU\n",
              "mvmdZ3ZCBhOxQdFJVqzvQPZYqKPPrJ6WWHsB/xw3Y9zuf0bJAfrltxbumsNVwmR2zZlOn3BehUQL\n",
              "nFbpOrUjRqSfNhloG0DuE01OUegI4uh20ACPkkCuFPY5RJGmj1YQ8TlBubCmpsftH3Jx2nuQQnrw\n",
              "endJif1v6oKnHcj6XAq7CuA91kp0nQqCDXY2jJFqvYMS+40POgLA0YevV9chD67cSJv5kjdHXGYw\n",
              "lQSE/+AW5+11zT8mCq+5nV9w25jbBztXt1wtEimhI8sJn43wrSBBfqMHTRRlWjvE+JTBtrf8OANp\n",
              "WjgunBzUaTIkM/zHCH2fgXowTVh7MqCIOvolDvqzh+PTmpilymgKRczQED0x9jHXocviQ136yaT/\n",
              "RXyEE2kBC3FwXcCpVtzRLkSgcXwJmHlu+hW7N0W4Vsxw4T3ChzkDL7NLjX2BhLsHOkoLz4CSRHFV\n",
              "7aYN2yz5mZX4GProZXeD11Hh9pdE7JnpDBvHdGeWCs8OBSbapVNy0OiNTVGX2kDuiev3sOtxLLU2\n",
              "Xf8HTVgQq9XTz4OeRZQyhYFKE7cMImRxWhR22iRpTrk398DLD6FbKm8mam/9jel7Z+jKwmQQkz+V\n",
              "/i9VTZNDIfXq6AtQ4IGEWDACJhF4jNKlLeY57ACQAzxer1F8qhTZ0Lda8GQPcZJdJPH3iRG3ptUm\n",
              "TssJJ2N7fgVXZhOppgBliLpTSIMYPgwCGpLMkG3Tee8qCIaqHgxoMksr+9Dptg40pqgfwd4QgFfc\n",
              "/vy3v6Lr4OnGkO8YhFum0+ZCWGnVAezT8k53j9v8oseEf10KUMnclGY04GG85/uJfE07O1x72Gt+\n",
              "wLQLskRvQC3S+4/0KmgxQAAAA0VBmmRJ4Q8mUwIJf/61KoAAN5y/slAAk4Lh++xcsPI4NEedZuyM\n",
              "4xpV7q/DzwhjiCQB0l+qtzFin0cppsQiFXwHpQYeZvnm+F/cqhMz0Yc3hiCGr1ogwOJ+d25WTdcF\n",
              "VAzBOe1gcBgg2cwQjRNZDq/uVzWwy3WhzvUSPraBKEJbxpzmZYTYKlsZGMksD4heCgYJj/aBFLu6\n",
              "XzKjHPfosGzz73rKQuTaS5xPuZJW1mnO+DwfqvAeKtKJvoJJpb3c0HPZXeW7g6nbN1SrPgdqgipW\n",
              "iDoak3xAbed7B1L2SNZkdnqHlCbX7ydtnKw1BnwImEXng54eIoasC6IJTJ+4N6K7wZn4S4EhwSHU\n",
              "t3DfKrP5WQTXWM6gpdEgGKxfNFooKR24tLGXc7Bemld+aBOyqP/EEeH2qOHzJJYue0LSTDR5xvt+\n",
              "0pkbb13QlQ4CMkg6FcT/3nyqZbvJgDvukw4uW2fN3OPy2vaLT6mROE1JFSr/HZWwQMDq/9hJLts0\n",
              "ljyb1ZIhsAibT0YLlZUPT230yHwYuvd6QHN06+1WSbMf8f92KH/dJpT25dIF8SNwPdt5fTqvwuPq\n",
              "xbq8UaPYpqlIDHuHcFvPxx2aWD0RtVAn5nBSEWI30CT+GJcRyUsUcSdbCYUNft/Ll7f4TJvEUNtZ\n",
              "z6KSEucjkF8SgnmRZLjulYgap8MAe3nWSeUKN8ToffaFG3mbyVIIc9thalgWH9fxOC+73hi4aiig\n",
              "7DlAJghQvTOvJKVKugrBZsw1jOXve807IXCnykVusqNr9FtZ7h9a1bHNTlSWsLNsvvPPq8M2wrAE\n",
              "I8VZBFzIS8pZslBQ5HVL1CSmSX1ylx1hHniSszCgCuKNkZq3t7tZHDzd8yxrMOclkihwJPycnGsQ\n",
              "JA8Wd6kH2eQCyCQOyR3Iko91lW6GEu0HwQUM+ClN9BciloLFev0NbVfn/cR0agAHqtVAc054NIx9\n",
              "zhFSqr33QGtL+LC/gTkvHMSBC0vSSqi9GI644iwxkvLOP+sNmUSptD2VJ6x6tjrslctpXnTgLHx2\n",
              "6a/ehxF4u0jCjc0D584xP5X2jbAH3BAcZ7TyAWZbjYxbgGRkJu5BLjKTrQLy/HqefFtJU3NN2bva\n",
              "GZUAAANSQZqGSeEPJlMFETwS//61KoAAN9FEl4ZKsAcCDXHCeCwG+EO5MnJS6XjoS6e5fHeVYoZI\n",
              "A42mkMOQG15vNTMyPWp2flZvWf31OG3TfTngGuKV5k/hYvlBJRv8SpxjXDAqfw5fjfeGotu2gLf/\n",
              "1hZNV3MRRnb5abXvQsq0hr3/Y7Vz3hGO0W2Yram5/e+prrULepydU419jAC0OSnpXKnydkxbKYXY\n",
              "o/otqluMCgSU62Vek6kxZFL/N4xrpKVPogx+PzIAld1Wg/WpM2RYxZGbWIdJt/zqRqTNOLRtMlIR\n",
              "rq5fRJZHBzs4IH0j291YLNYpWPNSG1DmlPFXcYUL4noq7H2Z4PVvXwebx888/biXbGeDS8U4roT7\n",
              "S6AI4aJxRYkvfoLIEA4c7+ve6CKGy/ZclvGkdRoMBtW4sJNlryI7KDF3D4Fgmpqnl8BbK4bpqpPR\n",
              "qD+kpovsPbCmLFcrTJNn/dTOglWVZPw84wXVAGc3HhKw1OrPuBX34JEqB0rSL2qnqsRRAwU320uD\n",
              "u4bL2p6kMVDOEKPnO8cU0v1YFL9cfivK8k8LwhRVQcdzSph+5rvG0tvkg8UCB8hskBnYYdU/3Kx1\n",
              "SoqQh6h+SFXIpHcgWqUdr3aIEP07AmMOPyMYWRxC3rz+gMIeGQY1/D2xve29PX4LB/9hBIabIaCR\n",
              "ULSOHKFgydDySXfypiZl4xCo9hXbbAFgcDm3tS05qMAjFQbwCAhcBdwnbU/InwTYQyVFDBt9CeOS\n",
              "NEzx0VSPLXu7XR74L/brrAAAmAP0iu45hdvvrDLxtEdS63u7IiqkHxOuPN/LW5p3nT3gVN6epal2\n",
              "PcYhzFtKN4O8OU+CmbAsUPyiIlAumMoViHhhuhz3UVAGaJtv0DFazaVydcDWt11r+D70/3lc37oo\n",
              "5nF1pEXtERU2V0aOpKepWFavAHjlDBqyccNYZeeRZ2wx+i+66bXOzX+SC9OIAVdMpP1PiM2ZcjGy\n",
              "XnkjiLnZNZX6iLbJJHi2P+kN/0n+0AvomPym7tuyjjFcS4tvwQ24gqdirFslHLyTq2tB1Cj93MYS\n",
              "dEAprtsC23qZMQAhK036Fqtu3I0EM6IvaxrLQnbjJpFu7Vds7uJ75C5b7/b5KNx0H0phExPXXYcK\n",
              "SwAAAGMBnqVqQ/8AAJmMaRDJrnYU7LJJZRsegA0Nj3TlXjUfp7KSfT+hhEy4kHjR8xRbtHTNKZy2\n",
              "Yt2zUCDn3WZCl6mRgCm++NeaXjfK2Ofmn824MUIG2gbwbE5LwnRMdU3dq+kOa80AAAKiQZqnSeEP\n",
              "JlMCCf/+tSqAAG98mZC5hQWGpAyKzZ7aybaIjZvTMre+xYNzvcLzQceD5QS5P8w9ex9w/QY2j/pk\n",
              "6/F8NJYCx9Mxan3OJZL3NloMPrUBj6SKZ3i8/PJGUCdnLUCuLVv2Z8RBPS9louVfMTUYeZV+vEPB\n",
              "TkyLHjg5YaS7Jkrv6/pIiFcTFQjdV8mCbrxOEarOEBYFppRZHMaUlNLlyUHu5SVuew6j3NfENGK1\n",
              "X6YM0lnThlk6zSfc9067n7gMT2cOJ+J38Fgd2FtaVTMyFf9pTtxPUN87ydH4mf+FMauiA8PFoCxm\n",
              "QhwOuIUYQTSg7e+d9CKiZUkA1r4vZohTitrQyF3zaP8q/FgUwaE/y8XxRZDMHBpzeqem6blJaR8p\n",
              "9uSdIsBjxb2in1nWc9pbiXOTScsj0SdQvrIsV9vz4SNCfIg9CMp6AnC4MeMAZ0/CQaYT2jVsSmt1\n",
              "8DGByDZKnPaQziGolSxGVQKei+cV8NXndChBmWYljlZX6RCPFBU7CbwCl2Zmg9E3suauSie9o5VS\n",
              "CyiRndeocbTi1tMf0tRlxluXB7//tu536qcX7YGdnPMC8vK2n0E6bjyGg9f4zZKs+TAyga0dLokh\n",
              "isYVaq/EfctU8ZNRwdV8qxinV6oUtz6r0FCI2UYWhmQeLa25ySbAC3D0iDPAFT08YuMayKY9dcz1\n",
              "14GAkhMyaMNzv1q9tFeK3yc3r9ka3LfWEM/R4SOnnznmRZT5grEx4A3nolF26kSGYTuu4xb64174\n",
              "/5o01sVDM0DKfmBKpQJnwE1hoscZqcM1BQXPz+Sy3SWIIwI9ahZWAL++st/oDOt3k5C57/w3dEjC\n",
              "rfnRHyx43F4cTniA7pxQkMbzT19cBtDDa1eKne4DBtg8vTojXFsB570AAAJ2QZrISeEPJlMCCf/+\n",
              "tSqAAG85jeBoBB1+VKtJ8cEiDH4VpdFZKVpHMUUVA4vG2RPG9maVoKJxV79gUFNF/XUk+EXpKoHl\n",
              "qW/0QRIbD+zb7jYnoREvqO4a/sHdl2xS38ujaALl1UzY3j7HRkDEQ3v0i5/EaEJx3A9qfC7f65+1\n",
              "Q66F5xrGAfmn2koJiL2Z0FzLsD3dR+1zb0yOlTtQqCIQR27rzFquQvroCDXloIF+dJpPto8a1Z0M\n",
              "tMM6AfcdG4REyVaUdh7QAQq4wehHbXcI2gjGV/CGKI7LgX4OVxGxj8Y7D+GN+xemE2BML5AZRuSo\n",
              "EBvjrnJV3wsWg41+L3FMQlcOvHTEDroCjFl6rXUNBTQZPc+VzdgDkCzfCRF/DHfM3MLHURmplI8l\n",
              "YzrE61efDEdiM2AJHHhaAmd2qLISEFHmVOuK3AoMp3Rv66kVzRmCqrPSh52PXZF6wajU2XNBtM+g\n",
              "PGO/Rf/OTJzDpQL9m5x6FJ3E9hIudhrc50zUFL8meDJeEBzkomFZdWjDSv1tnMoJ88lHpALkMkYU\n",
              "KWXoTcrE+P6Q4wwPscqorqNYiHVuft4+AV8vzZhLJSa1ceBMQkZ6xHZzWyDKrq1/gg+Q/pMZ4mcN\n",
              "cFjD+9hDUET8cReoi6OwhCyzGFOBl/HgaoUGIM9G56RRo9JgYzOSnqbiqZuTReSHdXDjXEzdLGio\n",
              "0uh8STl/DheRdXcOyA93iC0bvnPp/6CFi5LhAvjTonC3BHyGZbGc6ZloGpB/r7aWPhSse7XB/5Iq\n",
              "9/NT/4WbR5e/Kf4KBX923HDseJoMxDsyqpMNCZdZLmaCFQSjVVNfwKkYAIfbr/JAAAADpUGa60nh\n",
              "DyZTAgp//taMsAAcdDtw6JzAsAK4YyiNGWVSJZeZ3w7NrC8DPgGagDlq/L1KPUvwJ8kM5pRh5fRP\n",
              "320H1fMonG43OwsEmVyN/2M3KPAw7o3h0vtDfA8Sutq0h5ZOw/VkfxBfmm0/DXrfF/MJ7/shspDW\n",
              "tm9iqrqksMip+IdjfRAOPksxwkhx35BIWdGXM9J0BWBpncWJ3OBx67HOu8Kg4AyvsLcxs6KKfIc1\n",
              "YRhS4hzgZiHYM/lIZRXFurOd1JUHJFBUeNweJLlxFtSuciRmtBypsaJ5abolwWVHFM50UV9d9n0m\n",
              "J0OUa5dbt1nZ0O0uow7g23nsnGvxJbT5J/NDNh/4qvYj6Dqu+gMyemz3layZJmxv86XnW7XqFQbw\n",
              "0NJuGOXPghdWJ5ChuH0/szbHexd2m/t6fRmMacbX4ejBTDmwSFQcVLy2WiW0Zf5ba07ascrzoBcc\n",
              "Eoa0F1FooSGERLNLahfjtnnUPRfDu4ZPmmAjzhAdcuMc/QmJAgutL33Y/I6XGh2qWMQfphhAupLT\n",
              "OD52AAVCHSqAJ1Q6l8qzkP5XENJC6l2XmmeNKDWtQvlwIZNBtHfDoxbf53L+nFqxwaQG66+jEWhK\n",
              "na5iK/rTGPfw8EU5RoZcPbpEupfoIeXactpZbpSNfX0cLBQ8g8SL6e9SVp0f5nhok7nmTIlqnpBv\n",
              "bwRv9XIIFutCaLzFl4pSyUP1H9nK0aW3Zuf8Tk1cMfZXCpUUVkklyd+wuK1gHLcrDfmXS8rLNS8z\n",
              "sjZSl7MQN3KqIZyNysqpsdRNDSVWZzi8JR01Rt6MFgTRNoKLzAEZSBH4SUUTwHJLwcoy+qTWA7gF\n",
              "LOCAxfkRGYksef0GH2Oa9kg2KIfx3nhF3oKhPXBkpbP9sxQzn7tgNZxtsyFcC8dGAhP6xNDaGdMK\n",
              "297kbJHt57GnQBOZC2X5j5VngeLPwq019VsWxJyvtFKvsYqGt0wRutnbLGHhB2rJsrySE3P/gPZp\n",
              "TOKTO2ujkl2U1IFL4jXEEgpjKL+GzgSOQj9wbMNyTb2JEYUuuso7/ONkpMAaX/QnkTHvOMCyroco\n",
              "rTxClSGFlIUW/q3t6JG0iW7KUsYR3lV87BL714KXkCBDwQDlu0lIieoz58pgkB+Ntmq0nl20ugl3\n",
              "o0Zklao7XBvKcMt6STkkQBURTIW4fCgSSnnvbR3XojLQsCDPI0jIYL9Rnf078K5+++Z0xMXH8Ret\n",
              "wHBXpQVwU9utKdq/pR7QQAAAAHlBnwlFETwQ/wAAipUhumo6GbFDZ8jhJya2A7OoAR4PNywHBiHT\n",
              "yBMgtx1Bsf85JK9k6KvM4eSWI7txPt9fPME7HAT7Ak/4wtjbgdIrAMW/sXRlD/CaG+clQNJ9zyNn\n",
              "hFD7EHOzX3aUmcoC3Epc4XXVMC8PpxsCxbMxAAAAXwGfKmpD/wABNUpVcRQ69ILRtTpekQrVvk3z\n",
              "bCXfyaTnsrSZHeoJ+6PSr9Z8MC8VHIVH9R8i5cRnkLGB57selbseaVTlMwAtteE/oqqvH+LdyYVF\n",
              "NxqefVdelPJBSgJgAAADv0GbL0moQWiZTAgp//7WjLAAORroTkWBUHYG10P5genM+ZCoJ/L2eNhE\n",
              "WA110uEbAEXxbpOEx5Of427cAnfDT91m2D6ASf7leZrINL2c3l30b1LTEF7ekb9QMcbR/bo1UGF3\n",
              "4PFwbUCqwkeHxN1TL2omES6eCrB5alXsXUJZKz7s6IN7IjbAMdFcDc/FR0XL5bmxmf0Aa/xniVpI\n",
              "eirhcLh78cP4JRo6jZMrcBHWvzDNpFx6zyhZ7c3B7OnNzb4RoCjyhIkbPau1t2GicBUPrkjdVnEE\n",
              "CKfLaG61K40fQzL/V+nHw6Q9tpyoUjHwi0MsYMDxloX7TZrWxJPxVCg3cEenHEzD2yAYKspC2cwC\n",
              "0v7/9oL1guIhu04JadsYNZanGoX8Wf/x/njmFf9Ne+VXum8XNenZJrlXwDkulS2MIPuqmo6AQBwJ\n",
              "dimP4UnvPG8OOBwZubIiBb0d0l/9Zmwk7/F65yuLcQH19nwGdvW0AiQmnRQV+cCWkW361XUHmN8n\n",
              "oB5GCH13RuVgKX8xfWtfjjFbk9MdvxVQtEHpfLuXFJa+/fxIP0Dkw4CgwBGCwQJst4mzYmJDJ9Au\n",
              "7Sl7TevUAe0Ekq4xEa2Y+La3fp0YmB1F4CrZ3Xj7jI0CV0+K6ab5gSfTua2XE1/N+98GgW8zHhQg\n",
              "/t2CUBYolEP4qtsiZzLEhewj+QvPOJaep8jSM/MiY31TOHyStGexn8fbT8LE3jlVpGxHcBAINmDt\n",
              "CmTXbirz4b8n5H79ILqmbeRLoicdWGX+SO91UtswSmhUd/8oh2IPnthk9BDDtB3SXAoM9v+zxPra\n",
              "5P/wcYED+9t/ToPDhykb1qEhIMvby6P7MDtIG6vILqUGffAWIqofPP58cII2KrQ26zv2PNaR4R+j\n",
              "2n07Nfrkq95FKUEL1Qdy/+TmeN+c3I/QbSjNesHlZ9u0ugkj10+poKM81kOgImY5PxmXdD0kc/3z\n",
              "iffFyW0g8aMFMa/OhDe7NTDbeJXpciESD8v13sKymtwOBPRpVAhSkJFWcPedWg7XTBNwiTyLUVqi\n",
              "FeysdAThhDCxsvkoNEzBpsFGWdP3Y0Q8p99pGQMt+8DOS8kEO5ndtlqjzN9g/5n9hBBHT7SjVEot\n",
              "NJ1ZQDki0dSQYxNgNqfhTcYW7gJQtCBV9IpsRV1KSixABFGMTTYOZ6mNUsVLB1MXpUDazeEr0s1J\n",
              "qvKb3bIvIa1aong+mj+oCClKAnJwzwH3uEYUmcqnbHkoxLwKhgJ5JdrqVjYPS+H4A4IId9Ks+GC/\n",
              "6RQMFaHjAAAAgEGfTUURLBD/AAEVW2zh/ecaCIGHdruIAWvzz23MJSJgzKj7hpH/QxUqBbvwjtfT\n",
              "JJHJZCJe8QTV9MKF4NPHhIVgb2CtI0wb0myXKLDWExLK+Sn5KPlJVien5ZyZU8llBKULEgNUjLBq\n",
              "anG0ouJnWkg95DpVF/qAfQLqxHeNmUx5AAAATwGfbHRD/wABr//QxE52wCmIJhvHGf3ScRPyWSxl\n",
              "/4s4YPSISBf0QVsrsG7YYL3GCJRDNgoD0yH9eFhsakRTqFuJsvsFFyfyCbi88CE+YosAAABHAZ9u\n",
              "akP/AAJrBtkLUKtNjJVnNsZacNiuOrmWZn2nlM4+MBGhFit1tzo0NasoJ4o8Ju62YiDbGvrnZ8Nj\n",
              "PM9cpsmXmqdsw6cAAAL0QZtzSahBbJlMCCn//taMsAA46HUSNauADosPnE/lk/gbud8S0K+fDuy9\n",
              "Oe4ag8Hw+uNVk8F/FXuOOvxVl+kB0N+8ZmAHv27tJaPlWojJ4vvOFBZCovwJo5o5FyjRn7yYM2hI\n",
              "nB9wZGWdnv+qk2EMqIv/nFoEtMnC9zXu+CeZB9WhhmJ5CkTGkq2PVzNUVT7frJ87vAYR50Frrwyu\n",
              "Y/QkPeke7ZyiFU1V585o6vCgljgnkzQPa7bzrXmW1VLmH1fr8IqVySrTHeOrwRsHI9LfxTFGSfjL\n",
              "d7xpfF7O+lUmQ9HDWf4jkPf+GsK2kH8bRyEWv8MUWqfrtmQmLMO7yPv7cSmtqXJh+dB3ajB10Tqn\n",
              "cFos15Vfxv7QKUd3ID8Gr3J+m0lUnrSZijrQgVInYMy9T7BMCycYggQwZVi08891gCmXYytYyE59\n",
              "I7wozekJKFspoXu+NaQhrd98isiLY//tlB4RHG5+bcuiR4Zu10KgJNr/busP1fmlfiTYZHKTTKWT\n",
              "BsOYT+2E7NUjAiKWVd/awzKi4TBlJoyN6VcTbhK8elRjQTQlEXWx/9Lv6y9nloSOW3EIw/ufPgoS\n",
              "eXKwu2fPgAD7SYZH9hzQYk/UMCIsa+jM+yzE3bFmcr5z7YZjd9ztdgfjNyDtnBtE/nowoomhkGq2\n",
              "F+6qKEFJEXUQgv2kg3DEmd+DkzyKotocbmd+LHxifKqv29L+E5yuwzOuiGSVQ9Gn+ZSL7Km3hHjx\n",
              "bPicAvY8j/ibFcV08P4bqW6d94482HaFlCLMzw/8s9bK23a+51relPUzZ5p1ht3isajtpxcZcLbt\n",
              "OWtxglg/fdt+f/YLkQE+jthF4/uzTcN5RyKsKHQd+kDl5imgwMwrviPTCmqXuUm/7RQH92BIGLCU\n",
              "q67YJzIL7Do7Qtf4M0V9Jw5zoZq++YC4V4TH+xIYwXKPEwtM9Lr/5JYe25DO6DiOaKUJAR1azOB2\n",
              "ON+Ptw7BBcbZlMU3gNcFJEs/HmaP5hMZ8a3nO5gQAAAAdkGfkUUVLBD/AAEVT1ys4SNpND/KhPHI\n",
              "H+36SzX3tTMhAbwewMHwtzZGi6ZuPZ3S7eRFGdygBdKWHNWY1d5QBy8xauQauK5BkMCqIRXR+T+W\n",
              "GxEoILb+gdGzT1SmJLEv6/C8MGVa0TOismR90KbvWtC+kQhnXnAAAABLAZ+wdEP/AAJqxVxmASUy\n",
              "/p59+fUIeSigxaAWiGyFlJTgtuq6Zx/+GJe99n39XygUGvTuekXxttUV5wm39B+40L8jBBCs12tm\n",
              "YMCBAAAAMwGfsmpD/wACavAv+JtSbBJBE9ZHOUeweRFT+gs/Kk/R/5dSqzNbFvgIJ2xYRaeg+5KA\n",
              "IAAAAy9Bm7dJqEFsmUwIKf/+1oywADjodt0/I7LACOG+CFcm0hX/1lMJKo2ia0u2gmET8Mii1xLQ\n",
              "b82BLMPk91K8EQzvEhxfycuGSCWVahLHmKHwVg2lKTEL+zAHEa2U+MgQk2exFwig/nXDTEc70/dp\n",
              "3om5+TlER4bMDdN9Em2VYpOKL8NQdsvHDp/Gdb3stq9W9hdzFqzUV0ywtpGcaqtEtuFI4DgWqAiK\n",
              "XYpchne6Cxv6nQo3gIdpkVUiLTEbrPO5YZox9bYLTeqFuSN0Jv+n65E6VmgE7I5gMMYbrBHKme+K\n",
              "YrUhz/WDA5bxm7F+WR9f2jnM3psE42icuC45wFfxmy3ToAvUBtttq7f2pLJg4brXFEF+O+y968jW\n",
              "azvWsk2fVPIsr9xQ/YmUokAxoHoAoHzO7GmQYYNmUiakA1J6MJc22C/TqukMDsbRyOptjuj1tIFi\n",
              "F6iww8j2TNMXGXyIx0FRHsPyiOF+Fa0TWcLjAurTIJ+Yzh35nXXjjLeDMUwcYbDpDuT1wKo2oXnr\n",
              "aJRPcwpoFlGKR3k7eeSWXJbLWL/HfzJncl8nnLHdpmqW1zOZ8/tczTnMA7JaMvKwnyfVQNWTGyFR\n",
              "jw23J00YQypZXo1xPVEkMtj/GGz8hAuI50yoe178jk9UpYlUEhoqDcN1wveQqBUlFPWWbFOlUbq3\n",
              "ykTbeXxYdjpzJLZIBzGhw9w7vHh/5ryciyoyNgTn0IlSWp+OyBXl2ShLjsTKMo+K3GUS6g6S5Na+\n",
              "MBnRZVr9lW96KP6lqXWsiZqZfzqZ1dbOasZHtMkRsZen9tcaoOFffeQtqbl3itii6qwyQK30Fih4\n",
              "apnJCA2pWwe/510OpEzauL/CSBBaw5XAP93jhtju5Ho6MGo/iaLKcyNUDR1C6WY7tL611aNJmFK6\n",
              "OQeMMRUKZ7KdzdaPaLrvN+3G+bUpERssplavJPJJhxQAC6k0ANn+O2aJzV9G+XuY1zV0SlTOlQTI\n",
              "CyDpdlq4SFcEf/6/W8DwguWjyIaRaoIyOQv5vxIwySURylby4vU6vZwmj9koojj4TGj7FA7arAHf\n",
              "Z5PTILTJREjC10pFP+P3A/n8vdq6gAAAAGpBn9VFFSwQ/wABFHNOezFE8qDDre0pZ3NjHTplsHwD\n",
              "0ISA57aeCDq9YXn6W83tjsNzjSHUNbbEoAWoDbhiHJr9xCZAL23tC+jYEdsLPLNWzkR9I7iYF+Kg\n",
              "G3asWHidYc8lTitSq1pqTny9AAAAOAGf9HRD/wACay3WyGIZEh4wtVdISL7kWLRrRC+dFUmYKzGD\n",
              "EyxxSf55oUHSU5Jbc2XjciF3EtKgAAAAPQGf9mpD/wACapS+AlMUY2Ds80s84OYufStaqawZx6+L\n",
              "+BkkymQ2CjyZR3rPpPLd7DWtI8Q+VKuu3jmYCBkAAANNQZv7SahBbJlMCCn//taMsAA46HbcyhC5\n",
              "0AR4vsWXdA6MUakmCkP5NxGrDoYN+VSoEvFkj9Glyed1qmO660CBYv8ptxu+1oYh5+HyHNpSR48L\n",
              "Go4CJ3CXjLX4DAoZLUEE33yDzylWRqT/QvdOLIi1GUJQLRgVpQEZ71BxYWpuouoGlY4jQVlNQHRK\n",
              "B63ylmMd9LJ3iB7fnvS+bY85xSHJ1unvxGAL5z4F07951Jn+BTOFFv7f1NUio0udtjd9L0W8BK56\n",
              "ply92wS65eJENAikk1d5lqBQE/3XlPrRSimcmN66CSCcnTgg7vK+e3BhxLKD/b6ChPXSYBkupVY2\n",
              "pEaraOMNHaJOaVnhGN+oKK5HpnI7/NCeenKyuExPlugtCaKpjJSf0sjUe6OFr6vXBMUqWAPvhyGY\n",
              "dDB8nUFFnQ5kK5I82CTk1G+e92uyUdb2cmei4Gm5HgPMj17BTY/dEuUFtZg2lxS07RIiz1zdYViy\n",
              "erExq6EUT/6u6Kfu/gc//2+OMc+Xin+5LhvjWYGIRtJqU1AczOV6tHqmCSRjbnuxWeXw6893H4nY\n",
              "VlcD4ZuUnrkLq3kZNfbNuHQsPknqyDy/DA45CoEN1C2M9HYbX8bPczcsgYc2m8TrLXVbLaTRbPHi\n",
              "bud3BkIyzo2TUDXXz5H7YUr+wTiuJ2AapxNm8ZacnYVqNRKTWXE5x0rPjcwQWsdwhoBiR/QvWiOA\n",
              "PVIgGqGibn/1YO3gLjd5tSkBL1Sfgy1uw42sZvmbHQ8IoQ7GW8btjk2hitv0CxbQWRQDWKMZoupJ\n",
              "4pmysuvvCaRrEXDmuvmmXPBok6/Lxqt7gRpicABW+/9wFoCLrTheEuY9RQ4iQJoHYlLAYzFyQQz5\n",
              "kFekZXFW1mt4dB31tG9/7ysl6TZDhO1In+Su+MAX9KgxavT8u3ifMjvDAjUFlEcz9mQxgt7fcWCV\n",
              "uoOAC9zMG2sjzJOxvYDZANcH/ECeCq5nxMTEX6+RszIi+cl5kRbdk1ePb41BOWt2HCERZPEKSImY\n",
              "kqH0GWQcEf0I1OVuElYORHa0XY3WkB6BBF/1kU62lalJnxUEJnNphy3SJIKsy9o+cRdwszfWlUEF\n",
              "KL4SzGIL79dAJTTtU8iv2UUtBYnMlBcAAABgQZ4ZRRUsEP8AARUqQ3Ye6eJ+D1d7aJSeF2F6nz0I\n",
              "+lll0xkPgP4zAcfCIHagawEZqYyfXYAG4A2yHN9aLZ8zO/Xbw4YjCqLPGyHbr+OshgrauGVAJpND\n",
              "/hn7qfHC95oIAAAAOwGeOHRD/wACasVbj7fm5M9EJ5tVUyeswdwNAYXAwcw1DWkzb5JjmfKuN2R2\n",
              "dm5NeSdTmdokvGPaR0hVAAAAMwGeOmpD/wACaloGe+E5JiOpI8rEJwphXw1d+DdemTXNrr5E9xGC\n",
              "L0VwlbUjLGU1hez+tAAAAtNBmj9JqEFsmUwIKf/+1oywAHHjmQzgApB/lhH4k2LBhWwdRGwbN4mm\n",
              "XZ954v59DkfVb9ogI+t12su4t5bH5OQqM5wD1pAr3ehf0nCXQ4lGLz4LbWS9N2XZy1kuazrl+6Xu\n",
              "miR3gsELyoflskS3ZsKoy6nyO9fOi+lXv30ca1sgufMi/PGDRnZ+f379JmEmWA/ReaxjfBJXVdc5\n",
              "//vTHKQx9+mYK90wm1AjhIp+Yz7ZQnQbTm1TI3MppnQR54JyAIO3jjR5aqqFgi7IuLq8s66Gatgv\n",
              "vMGR3HpvFZt6xJfEUUM61bn3QUj8a8jLS8qTkMsBXvXqzaoyTfMIHWpDxL1YGIUIsM+qcSUrjD/g\n",
              "ErGE8SKOs8z/C3Q5puzTPagBakGaGVV5xE6t+gfKVe30MVKH09o/hchRZe5ysAcp8HxVD7n5XQdR\n",
              "al4yaJh4pPxoysKoXIjJStEmKNp7yORgGmfGQaEK6ETL9ollqls2AKlig9cAiecoBf5/ePX4muWE\n",
              "p7YNo2YGD2IAD1j+gPnsZDb/tmzEE3FDakL7te0wGa4tw5LRnB4oivumiNcsu//NsdpOaGnm9uOg\n",
              "mPOhKho/vdg+EhANKfGLsMfzJf3I/nI6zv5Zr8RGApT/qoCVh1RbA7i9Z8DE/F22W7Gd9D7aVjAS\n",
              "LeUNr8+juYEzUO3u3bpmjWokiTQviTGc5G0moq0aBneJYc8oEqSWcYlwn6coXWu/2OqjFRQRE7TL\n",
              "+xxQWcwhWpEcUR1fkscnjAPkJSVa0AFU9ROeAROJATDCmkuE3BClB6syzZj6QIMQ37o/kgAHtOyI\n",
              "LZnS1gUyS8pgWsmp2V6OFoVcrM79UqP67l7DqAMHCSF8TrHaEsOvYBepnXu4tEFyEi7+39rNEHi6\n",
              "NT7EBCpYuowlGkqcl23GrpJNCoNQCXVRadiXodE6FChBiXu/FkQEtN6lBIpZqnluXMRjXsMukOcA\n",
              "AABPQZ5dRRUsEP8AAirMZepgk0piK4F2AWIqfy4oyPPW3Y0dKHuFObdbXUVGrdrUhBr8SL/iObPR\n",
              "6O1+fQNoSRcryP21nbbPD4Oigycg/CIWYQAAADgBnnx0Q/8ABNYzZCK2tTGjcDyJV2rxKFxbY/iN\n",
              "CQJMWsMSdZAUg927uehNUSQwX4fjtnRPGBszgAAAADUBnn5qQ/8ABNDbfJCVrlggjwAU33PTUEzD\n",
              "D/7sOEZ8Ro3KKPBaK1/zAEeo6nxZ/vczuqsfzAAAAs9BmmNJqEFsmUwIKf/+1oywAHIqRVsWAJl6\n",
              "ahytkXCiGj8Sz0Xy9x2ofjOFGk/otbJY9+yQb6bcMIGfC2EzpP073oAGFUwlFGrWzF8cebguADZh\n",
              "YxMa0Zv7mFCjqLIZeM5fPAdCaNHOG4fHVy1XP0/e0skOSkKubxSRhvYKMCGkZMeZh6Z/y/JtOEGs\n",
              "6YBDhQn+0il5+bA/xnqT2KUMWEx3D3aRC7fvOGQIxUKaci8m/3wNRf6pJaPC8PMwZRS7urePP+6J\n",
              "i9cJFEPXtBhQJuglN5Oke8WeXv+Pgrh+eefAB8R8GkvgWkEEFcdn8AkiX8sy/bFWu+JN69jgHtME\n",
              "qz7Bv/SjZfKbmd0WOhpNggsYKVtzpWk8LSXdFBcORDZHaWyG3y+FwoPFyScxPlCfbi1Z2k7zKK4q\n",
              "MnwvRWSvnKvIcSUv9MF1gLZPu9+bMWALZ4h2llF/jZuybkJ+hYI0nlxH/LBE2zdjlfOvp8zr0f/Z\n",
              "8KzXeuMBoJi+H24Hxbo1Htr1nXAmbNY3iLP9G6/fp6hbAFltMlbXBWEuLAROJarh+AJ0udLyHuN9\n",
              "ucLFZXnSEyWyO5/zBFf3pZKqws/SoB1K+SBoP+ii//r3WSNUdnceKJX240WYvJ0rgm8UK/heyNdF\n",
              "ohkQunuuyTvnOfYE5K1IBGx/lqreGkXk6rewsfKOV1LbdvJPYtoVwD1RHOVSyYQTswmuLO83uR5V\n",
              "LX5YpmFdS2HrnqkTsfYAhRW1zeHBVO6FUfz4Wf01lifrw7g5mdi6pgbko1WVAvAogc31pzC3Mijb\n",
              "EA93Mba/uB2Dn834EeH2VJVt7WY/sf3fgQYav3y46M7AdlG9iKSk4Xk7bNw75SiXQP8H9093g0bF\n",
              "Z9kv/OuN+yHepmJxkRMc5vVmiBclTHxQh3f2GzN3JR548x5R3xFbPVCk3++pdMOQcHN9Zh38p8mi\n",
              "yeoo8N9BNhJifwAAAFBBnoFFFSwQ/wACJDD8aE4p7xowvFr08Pzr5nUQtFec8rTP9vmSrxD/Z8k/\n",
              "7hbbnpeZ+WruxzJe2BfxL1T25Lzr6h/45J38eAFc4vZJcbVYXAAAADsBnqB0Q/8ABNZcR+LipjGE\n",
              "Z9ks2vl0c7jowFrAtc2zhVwZI2xhNpLBwwoNqRdXM3N3v8Sc+NHfIPutgQAAADIBnqJqQ/8ABNXh\n",
              "X+Ju3w+3JB86yBhQqe3hKHRVXiqaPMKzkxBgjj99t3V//RiAZ0SbUwAAAwFBmqdJqEFsmUwIKf/+\n",
              "1oywAHI1ycwsAOX5ZPJezrlDVIMdi4TSewiE41zBYBuTCOCMiVferrG9Zc5iv80Kw0s+Xg7ai866\n",
              "J+SmSWtJ+3MbFxXoBbTGoM0bsDmGFjgrFp4xthxtPHjTJHRtbgshhtzjXJxpRDxyPINSRZ8j5Xkr\n",
              "OWLL8+8h4DeepsC9p0bWkfUV7gWP7cph2N9ATdhNb8tedVsh0p4j+lPuJY8OO/nLUvSdpnQDz7vD\n",
              "tOOxTteBDCxUTlLpw3h+1ZtHTkJ/kaklQM4Jr4XVyE5vhTuz8kn/x0ZtmVkl3axJRrbgAU1/wAWo\n",
              "eDfzIKkaOTMjvTdp/cC6D3y53nRoAyYBxceeefB+otaUXrZluhjmGTSfk3EJ8ydvASxD8bc+MKQI\n",
              "Gq1DsmqwoXXoEhqtCghkiDwzRkliOwGRAWlUUnfzW5wYNzfBwclYhSAn+rSxHSCiN/oAVrrCmr/8\n",
              "DnodFdy1K1tELfzzViD9UPaOZLKqZrQIuBhveGk34UHwyPZv+XFKuqJIfLbqpZ1KqyWL0+V7fwqH\n",
              "ARJ0hVslrX9jME2h1EcxVwhhtESIwHg0V9OyC5vaYXvyg3D4Udsw61qTxHtvVRTe8CeadvNzv+4L\n",
              "/KSZt2ZoiAy3AXWDoRI7H74bOcu2DMZ7rMED3hcotpjrOpPDSMPFQFYLvmRhv+pRsbmEn5V8lApk\n",
              "eJ5qgZWcoFjOQgzZZYww9Ccwa5i1Tv8Vz+K3sqqxJTD7GYStgNPpZsO3rTCscSYTwzuGiAOk+pSL\n",
              "j+fRaH0mCwv/9apmZCip3ZbOACsRaGuEDatcJxQDhtWYzjhF+Xtjpmvfq/m2OQIXkTamigR2qth/\n",
              "W87wrTVKPFFNoiEwkqHB9PiaS1xGCBe7C1ak9y8Arb36231cUblNQkVC0yqcL/ko3YXAcPbiCRc/\n",
              "AetLko9aRhlNGYuGVhPk27mrw4ezHMGlwBQxqCGe9BBVQfzV304dKfxHdsUHLaYypgiMFVIP3Gpu\n",
              "tphGGcxxZRIQ2p4j8IrBAAAAVEGexUUVLBD/AAIq30EncHdEwtY7G1u0nLdw+GsvDVKtGEIB0gWG\n",
              "hMYnpQAONwHLIDiHXqJIPu03GVUQ5wpsNWKvp/6QGsfLk7oPcUbOucjLipXYTwAAAEcBnuR0Q/8A\n",
              "BNXjnPm3IEVgKdChCM8Tzby3Oef+mP6F5SdvH7rz1vveFT3RSklQ5qJYB4otNgjkZEWHNQfH5Mzt\n",
              "syvpwaXQpwAAAC0BnuZqQ/8ABNQY/f4hyMW0hqJ64hYd/vzZ7TwUBDVvWImbyawQ2XFCzNJ49U0A\n",
              "AALgQZrrSahBbJlMCCn//taMsABybVJX5bsAFZyWd+wdAutAwQI2s71/pfHUlP+XEanJCmRZhOsN\n",
              "UiEws4/I08v6NC5WM7apTV7zfGcXqOIDnDcEu/91p4isQwmbjqKs2mNkLx6nUn6BfGTBsfLodOii\n",
              "j1FiumWjtQm4gKoAcSrlXJrIw/AgRjdmKNlPliKCVh3ODKeM6IlKlt32jjuhk38zGclM0MyoWDjF\n",
              "f/GUsnFsxbA/Jfxc0BzTwVMVuZxiXmQNagX2CYDk94zUn1AUdP1UVBKZcKgw8c19FR24yYf5wzdb\n",
              "BArmAFqeQkL7Y5o8EpmQbILtPXHTfAGW6atH5HXJrbMwF29cbEWblSlHgcsygTXKw8Bno6a3TwIR\n",
              "TzK4ZrF98FTWQSwxxTXdS2nKacmKnqc5Q4FYGx9wZb4I/CUSedIRWeLX6SCHIFb+ZctbcmGeuJfW\n",
              "GD1bcWJ3sRrVeV00I93tXoBJrVl8XXGiZxxqHdaCkmVyhF1Jh+9ClzhTTgIAIhefdWDm+eXwnsN4\n",
              "1PwIW2cCpwtMCqnbNIlIoslt0w6/iNeB9w5DG9Ut+7CYUT++C5Ote5FhKYzTqY8KOnOwV1zS36Mr\n",
              "OoTb4oSvPqvUyIrsUJs+U1GPB0tgiXZRqgTf0uXbSdjTG/eGUJ0LI+9AqDwF57wb4LIg/JYEMEGo\n",
              "/D9R7Bb31mwcsyXeVm+O01+v8tpimE0KZAhdl9kgmUnDHksgaJ2pN2O5sTbcLOX2uS6ZPiMYLU5w\n",
              "qeM9OXOlloIxmbAqGmDKICi4CeJAaPTl4XbX47KAGrJnoWtxjisJczX54/RMx5kf+qw9MXE5NzHw\n",
              "CgzoxaI7hAt3bp/sHJOUMs1KYoexXVPeafDUThfRfRjVqwvBMOY7syVN2UC/7EcWIlLd/kAoPPRw\n",
              "PSvqle37/7rAEFHPZiZ4nFuA4U7puJUZ3zd4bDS7gj0uvZ/fkygMcha6dukqJglEBGYTowgknAAA\n",
              "AFZBnwlFFSwQ/wACKlS3dQsFh4vb9+kly40bVvCsBp+NipF8MwCc0ZGAAsdj01ehnwoboelYEk6K\n",
              "g6EHiXDQTdkys34P7qlxjSLbMGAbh4lMNLHCqYsKdAAAACkBnyh0Q/8ABNXjnO+jJtP0Nq8b1tUh\n",
              "Z8KEkNjcyJMQaKCnzYbCsBIISwAAADMBnypqQ/8ABNXhX9lSXVOpGWcaBdbkHgg6eDYaQ1eATvfG\n",
              "P3YFnFYqRMmwApjr5geTqBAAAAKhQZsvSahBbJlMCCn//taMsABx0I0VOlWhAFa6PezxWmW+xoIG\n",
              "sJAL6ml8Ob3XrZoKOCedNMrz97Du3h4fbRzXLJ+e8qh8rI7FVqI5zVKZ5ageKsSh+dvqlufQ7G9X\n",
              "gItqyd3t8eHdOnixD/jq9rShlySXGL8vXLm86+56qYvh+Zo9NIHmBd03CTqsFHoXVEQXMKzf+Yy/\n",
              "9GGjk2NU1sFugBB0sZ5xq05fVbdUnBSOsrSAuHKGH+ALc4Arl8RVAQlctZBfjPxqTTDzjl6UJncs\n",
              "Tn8AVXkIypzgB8Pxd4Gikn56p8iYIsb8sZP65ZUgd7VenpC2hVa4HbQoMjMekmyIRjwulUmx+1WD\n",
              "t5hiuHBd24ySjXu4498NOtrwYWWMK0Uxuv3kkpc9CCZTbU/TJgkngatcps9xBuFwn5pAMYUtfBbk\n",
              "ya+6juKtf7V5H+AQdDPU+wT10hb+Sm2o1/Sw8m80s5raFlF2Ev+Ju+FUO0RcVOmWibJnb97rkDUU\n",
              "C491G1hb/UvPTcEXjrOZM20CpkfVOa1/1GnCNYIqRdPZbmrqbn9iEoQg2yYdQ5yNeY55rKTrSBcf\n",
              "00xbuL3A0P3o9G1WG+lrYTeFnnI9Mbe074MQX37UOx0MFIIT3hEJ4dMOmEZdTZUvhbNKeXiBjgtG\n",
              "65tdvT7c5Qalt3bgbyYZCM42tDGEX+MYfhwJd7+MiU1sZyH7sLDsw9DZD8MBlv5dIn0FVkNb/6cj\n",
              "f/wvxwhgZ1ghj+8d4XOV3cKvzTh7vjc7z1PjNkVviU6Xf17Z5ZajJwnZAt4viqAOiNp1gxuxy3zU\n",
              "wOx+KOa7IZ+cVcsiu5jPBA2Al6VxWzvA9HbxAfqSZ5oooK7s1J+JPfENpdWK0T4pSE0VRGuep5q7\n",
              "3klGBdHN3ZM2gAAAAGNBn01FFSwQ/wACKqAO78izF3NXAom7hhzMSR4tWm8N+q2XaYc6CMV9VHHr\n",
              "da4ALATVvILGDpUm2HYHzy0SbnGmYRVFeF1FmmQrRfdWHg5lIOOwdV84WUR8yZ5+JPobMUZNiwUA\n",
              "AAAxAZ9sdEP/AATHFqmnOB3q5hAss7th8oFIEq5L8Ero7Okb/uiiqgrT49Gv4vC+QgwBiQAAAEYB\n",
              "n25qQ/8ABNXhXQ31qLvF3j9MQSyqkCl5t68CfTfckTWQFovGcXq8ACvesRKIPmb8myxgu9+B6csc\n",
              "ZxG6qnKCDuFbR+WnAAAC5EGbc0moQWyZTAgp//7WjLAA462r9oWBTZPveXCxO71Iw5M/XCBAv0zx\n",
              "2i6eErrZMIGJ2GIPw0b9xBzDjFWSNCi6A+xLmm+HeVfD7A9itZl3JzPjnD96Vhm/epwJUSN/yDTu\n",
              "aOUk5G/wyqrZSUShpc4hpZwMzT4YREfwwBfyMwtAa++0w/UG6QqGviJO+Hgu8MzF14vGWudAegi7\n",
              "6/lJpqniHYSydTAyW308jUH/adrJ9AkLtNfPOCULuepJNhBN608cgxtDyxJDJFm30O5wBHlPTJ28\n",
              "vQzUg0L0fuNRprYBiWGgRGWovWVzqQYE6EE0MscI0bDz3YB2fGq2mmL9FiDshfQL3KJO5bKLdrko\n",
              "Do0XKRTTb/APDgzZq+O3hIBbCRfjYM3JTs/uYhmEFlMkqb+OXydXZ+vRn1VpWgs+yhFS3ZHDRj10\n",
              "OZMPzwBq/JqVnFJqSUYTefX9vOU7TsOppiLk+Fmu4P34Z+PAjLsKFPO8IBZ+pYf17gdtK+/BqkJH\n",
              "kKCB0CBvcQGRNcG6aZPD0xMyZRIgSzIdATXHLo+hK+Iw6wwaDRHjADgk0m525L/lQmwYTqwVFrZl\n",
              "ZDqivyG3QdQJTW2MD1EfUtc7PrC0rzr33KSiKzKtkyOUIOgKoBRsNOnlW4fu0XavuuHUw6D2/J3v\n",
              "9PAqtJcJiiBn2oEtlHT1lslDUm9krwrzVGOzNJtqat5IddIZ7i8ROvmVB/kZCT0JpjO304odbDNj\n",
              "4Ndj6XSmX+EcMvl2FkDY0VNlFxJI8TAWA9/nfHtnBlO94IMFICht9Vz3eEL1iG9rkYMvQ9qHfiKI\n",
              "BbtdnXUWt/j5nrKEPyTTCwWKJeCZqLWNwtqfrdXFw6hxuQ3OKhgSC0jcV3RgW3P91jCcUT2S0mnX\n",
              "kFQ3R/C96g8D8xBnXShLBH4jG/4xb6BlPGm+3rPzUAD55ezLddHo5F3Bqy7RCs/LXQHYvtBuDQno\n",
              "3kaKg+zHbL4SeQh+sjUoAAAAV0GfkUUVLBD/AARVbaInqDV64WILkRDcCtQpT/KmKQiqwl5y2fgs\n",
              "cXh/TIq57nFniOlPIyTwUru4zme7q5hLR3c5Ehn/7Iy+LsPdavalv7YcAX0qaCnIsAAAAFABn7B0\n",
              "Q/8ABNXjnNB3w/t19wDuKw1eGDDHF2L8EgGlSBgZynb7YYHSsEaPcdIAR0SHcjeSSx+r4KHMEFnp\n",
              "15iaKmxetNo62Ypc1UihFMP9OwAAADwBn7JqQ/8ACavCvew8ZQLGrEd3yy+rnRARFfWPjTrFP+BG\n",
              "rgaUmlpV5MuBQRFMwM6vmVgw/Y6BbQpfc9gAAAJnQZu3SahBbJlMCCn//taMsADjxy6YsAbH85xx\n",
              "pBE3gVvDvWeYvCJUM0PC+TfljZvqo4ADYA2Og26ucu5FsReT1+Gc1XoDl76CEMgO6Z8TOFKo1iTG\n",
              "pWYIu50u/40dgIoOiBuXBp/F5mNDpFCDzzniqa/HeMMzVwVY9IzE6N8/uGEPOgLnmwqJ2O8+UzaN\n",
              "Z3NpVDPSr9YAZPTx1SOlBrnvA7JU0W8TZub7vhaa5/753rZ5zszQ4npoThy23nv/GTQI9RFCteDh\n",
              "+lK+SmtLwZPPVpcR37hT2RDm6UPip4Mhmm7o60EjyrZqYfSHeYKsPKNf0HBkFAZWXAAryhMZLbEV\n",
              "/aVYh4ubUuLqua1b/ohLNkSUJGaztt+zt7ZzvZxvacZVKiINm5/+2OZeBI6SG58g4KTOej1K4TIP\n",
              "0Vx5xEnJlzjOS3ks7iWqJciFsWKblWVE7ittu0BbOdeYrBU2Ii17FrfqyUpcEqGXTV1HN4SNP8eu\n",
              "qvMpQlGwkVZ+gp0EawLWIM5+8GO4ZUOUqwobsNqcQKSoYzoQmDA+pvn4Nj56sXi9Pdxuf1BM2KS0\n",
              "+Q5Jo2jw7w/94UFnHIEW9ODsmxRHOjPWg0CVVaiW18WxqXJ4/XuGgo5xuBFWjJRkWhk8nvO8cAiO\n",
              "w0Ria02WKX7OoCunYIDuhPD4PEysR7qUJmcAtyyPGE95TybhNutWLjmIsGeRxfWU6xMlIBQlxtdp\n",
              "G75IEB0P6VE1AwDoOQdn1LjbqIRqAb82FgH8CCYjEfg/McdZ9QKK6OVAfIoiwPVYhB6dnsxdQnaF\n",
              "c7euRCQlElKvbSLFk/Byi+jAAAAAWEGf1UUVLBD/AARI47s4BfrZoXiSbthcMvXdLZ33S6Bb1mc1\n",
              "pf+HEJyEN4/IJNFOrJ0ivkkQgArv8VB4YX0fnFy95aA7TnY98gm/FSngTfMEVt06nLW7ab0AAAAv\n",
              "AZ/0dEP/AAmsuI/FZJmthyfUe6oA3reHcMo/mbUCFUwkrxxlbsAgtfRkG/kxSfAAAAA9AZ/2akP/\n",
              "AAmsvaIPr12F+LcGKTxLvpDr4WI4q1XTmtzK5ex94Wnywakh+BvDdHcTrd7HzY0fMArjEplm5wAA\n",
              "An1Bm/tJqEFsmUwIKf/+1oywAOPHKzHAAmmH9LupRpcMQ+nke97GzIamWNp/uWXcFug0zU1kr7wE\n",
              "w0HmUanGcoEha4QljWP7WdF/3Ehyhtjwo43jQdnUPgrt44SJ+rB1WCAMMG83xKjMp9WaF6wYy9vF\n",
              "/8OjGLpv3mWHF7884fiNxkIkdbl4CY+lKOCTiR1EaVvrKtLluMMnu80kLX0xE2xL8AQsA9eSRFrn\n",
              "8m1FpbN9FZ/3qOop4J+1wRQIi1buYQlUfvbUPxxII7BRIWfQXS6YAMu6Ix/6SyX3NNcgt1NWYf7h\n",
              "m550stiRzqrZa88zP5GzeIbZHXpSL3ncPk2WJxBc+fRIpvbxfBEdidFRQ1gJOXJ0C8rOMsReWL03\n",
              "H9KLHCZngvaMyWg0sMQn4QAufhU0hpwJ458cEI8RCE/Ng5+TB6JAVzKcHVo9g36h/jy890pEUIL9\n",
              "xvVPDkWLBRvnn3/7vStr15NlmSoIFKEan0HJWGe/+gLRMiHHawtemT4qDuvof2nAdJw4AqZEIt7Q\n",
              "Y03OWBeM1099ptit82wZXeeOQaPaoR8OKRtMaS7XzhRkcpXujtdOmEnKeGw3vZvJzPReLDhHuPig\n",
              "NdcnIOQ3+JPp8fMhYn74TfD9Nl0Oyb9qZ3F1sJsp53XLLOpvhwRq2VfS8WYWejp+Ere2KCtImJna\n",
              "pOgN+ZASZjPEmbxzjMVMq+9HthzwIKiIgf0rMPk4sOr948yOdn4jMMRYVsyO19ggnv7zhHxNXUpP\n",
              "lTJAizb+spSn1q0hucc1e7X+IT3/pwHUrZNCWPscdS/1Rr5UVdeom1F6fKoAcfzH8sCVb/EaITmv\n",
              "armonAyHV7g9BGjBAAAAUkGeGUUVLBD/AARVgU1kqFjAEVl6e6HSK4s1pY52QrsUWh/b/NmWPKGE\n",
              "CXg7TnxiGkPjlUX8A1sTnwNFzxI+V8e7+v6dHFU6D3og45MRXZNpJY4AAABOAZ44dEP/AAmrxjlZ\n",
              "vYv0bBw+DT1m+NEm7Hz5gAXfAXYxYllEa4XPnL7UKkAI8U2Bd/OQBfErZMEEK7T8s17UfjZmOIdq\n",
              "QWn8PvLNJH9JAAAAKQGeOmpD/wAJbBtnb7RcJzBxPznEnYS9QfnIeuUp06Vjtd7B0nhET3I8AAAC\n",
              "nEGaP0moQWyZTAgp//7WjLAA48dcpdgA5bkqz4nFOJUJ5TYKaHBERamMwNjRlDcSECMkD6tF0VVM\n",
              "hGOfth8JxZuPZKvAdqvIHxodyV1gwlu7KIeIxG8YEu0VZPO7j2nUe8I47rZSSwsUZKUyZ/cE80iE\n",
              "VT1B3xGyHd32UkBI+BjRP6/MU4AhoJc3yGE3NV88Ej47CmteANkpDsDOH2BfNa1E7lhDW7AH0KAc\n",
              "a7VObM5wF7YX9uWVk86QNxVrA1vJe0BdUy6nBGLI/4SwFufc4oMimkzpJz01KDAbE/NqRCYaqtAq\n",
              "Q5ophl7o/MhYJfCCKFZfqCI06iA3UJuavMV8GdYUvZjyPuh8o2YJ3d+0IEt0+L4kVbLLFWB/J6+v\n",
              "uuwaqv9cqGYxZbbpei40DwUm3xVZ+wOVq7QOnGMNRUfl3YMPCsNgbV4k+VhA5lFbRcFp/bAgNksA\n",
              "fwuwO/bfuHuCBmD2OIEf8VajI8m8Vv9cFdzlMUUQPdhbbskMdD1NAFzGnwuDhRH2dMy3hOvhJ8iu\n",
              "QWbxfb38adT82CCDbJLo9TAIAql+hcdVnl/91ytA8QEdicSqfjKIEOFeOEAGkKdbGrE2D7cjZEcR\n",
              "HcxhX/RuPJlXMHO1giSMasXeDeaNuYkjK3Glr2/oxTx7N+KiAOxeb+zzZvtnEv7PWbv7O6hCPnoH\n",
              "iMXpuyaOxsnKnExbeic1CjzpIbnBt8veXah/EE/bLvFDeYC4jbaJPe3QPe68On5wF3edC9/NaZjw\n",
              "TbVG2Ku8zTcwnDSpyOZJbp0Wm5YQ2UbU8ezBs8TFjmYUpOXKFl08ULqhF3vhyF0l/xU8bELvvUWb\n",
              "afDRgl2FVhpcmEfqfX0cKRaX0n+918MJjGCCd/RfIZPNAz9DjJxCqd+BAAAASkGeXUUVLBD/AARV\n",
              "QQNAnIdIvsnMx2Fhbc6+/y44pJRuNujb1VRN0cZhgSuEAF08DkJQiu11fyD1RRerLTgNl/EXRQbD\n",
              "Oho3N69JAAAAOQGefHRD/wAJauV9E1VNSzPqEYif+eyqFXFM4GQOKz8F9ZpSXJvxR+rJ0tCMD2dJ\n",
              "dvJ3bvMLLH6kXAAAACUBnn5qQ/8ACWwbR6et0Z5pkO5X5dTCht8MAc8NXlbpLStgigF4AAAClUGa\n",
              "Y0moQWyZTAgp//7WjLAA5NqaHge6AEejxXDAbgRdVPtVg6EfKCC4e7hlIMPX3dL2tDU2uokh+KMq\n",
              "/0p7r0/5YnP/TCr2ZJw88w3gOhUCiLUYU+I3TmxSmZDSjMV7Xf2DII0zq5TQkYUv6h8SooIQD6Oq\n",
              "hPu1pAsQO85JkIwMxPEr+t2eZSlpjOtpvvrleBVHOIcj/3+hUX2OlW+JTnYh93VeqPGFY8vF1ShQ\n",
              "XdLiLtBSjizAWufMedQhKrWYOWjJgiIVyL2ENv4m2VBr3xf2wzptK7VCV502iaa9F23F/AiguM0Q\n",
              "8HynciIi3UOpxX03NB45W1U9OVxHaAl449WZ6bxBun+QFBsWn+eXpCzhiF179aIYfRF+g+9x5Zt+\n",
              "Mp8UbHY7fnzAFJ0NK/hqBhLN7FBMqNNlaowddLxzEcOBtBqn2g8551gUDttknDacE7GWEdkA8rXu\n",
              "WJSLQu9uqCmUQG4hS56sTTW6FbAF1/8bTco57AvzLfAeHbaKBB2iCfnOVHhPFSrAgwjpYdmeH80v\n",
              "PeU1bTZHaRZWAaCa00nxAOG+oWAQGb/3Lh27qON5PPjrEiIgnbobHRY24CK3vl9XlgShXunCcBkn\n",
              "wrYdG88XncPuKdUBXWM4SAT6Fo5YR9gbsNarLMZSKsJU9jsVn0RnbyPsnnLJRxSeE8FV/5LUHDsK\n",
              "03kf4wBHOndW5wPLCc3Kj2X0cgadTR9eRgOTA0QnjbLkhTm6dt3v6A4WzKiMpS7sUHM0ElgVRt0D\n",
              "IyvzTp9xNQFgk90URsaAqkjnkisYGafUBBfAUrmM7B5MMM59dLAXZtzFwXL2QZqTtGt6UGqB26cx\n",
              "RVjyYPbJiIxuuY68TW12RDiLt7MDNXww2mQeLeSVmasAAABFQZ6BRRUsEP8ABFVBA0Ccf3ZDFcMT\n",
              "HOsAB8xvV8b2qsv8zXItzwAS06/1NUAyjlBOtPpXIJrjFDed94HEj1nnInxuw8q2AAAAIAGeoHRD\n",
              "/wAJpMMSpxvHqXeWLrlDb6LB9fdgex+Qt5vRAAAAIgGeompD/wAJq8d4tRxOyoRxlz6m00xF11dp\n",
              "j/kipBPEqCAAAAIGQZqnSahBbJlMCCn//taMsADk2v5NgugA3dJZePsumIUFepDlS4uaWrRwXcF7\n",
              "fI75QpwN5GhbI234dLlYxpBnt62LoBfX+OchdpOYW8z6mnqO978Mrx3eJ3s62wxWzdRDSslP27iT\n",
              "3W+UvDQWHNYBqJCni/83QXR36E28ac9EtP6/1c18WJH0VA1sELFbWYDxhF56ip10mi1ZIP2I+ivm\n",
              "Y2ggDJR6q3k8SNLoIava0rKBW7F+Uu2YkEEUEjvht38S6YbB/viZKXtRAkBIUfMIJR964WFd5ID2\n",
              "YHHqRmZ+s2e51ZEjhZo1fGSCO88Gi2crYIXIhPXyP7SxQe3T7U9HkOnevExFC8T14wwGZU0tQl/r\n",
              "TMc0FKvL8nIsAWHKz9S7O78U4r0ctfQOkRT9zPBQJhNZjL6h81Yxc6+kvuR9ZYE7jBYyRUGobsSO\n",
              "KQNvv2T8nkHbn1al2zfWMsnewXpfH/Ij0NK8b90uAuSPjbkvOAwiyKEhfRRW8ePoVNzFH9iFq4Pg\n",
              "QApIqrZ1c9JJo3YAj6FpYG/wO9iIYxWO8hpcfBbUXC1ibOHH08P4sF9tCnB9JU9LZZ6wP1haRJ9m\n",
              "MlK/lm/tehMuc3+RRQFTAg9z/ux2h7IvXu0o/XQvpfBjpP84Or4TjiP73ystoxHubbkHr4NtQA9z\n",
              "aBO9UiyxmrhaSd3W8LEm4P0AAABNQZ7FRRUsEP8ABFOd/TDI1CweNhVcaVyMplwQcT1R3XmYATPv\n",
              "Do2tEAwhEHFCtxFXOxZJUIkZZZa4U44nli3l9hqZljiZiDPAZYlWqzEAAABFAZ7kdEP/AAlq5Xh6\n",
              "/F3EaBxJsLCLzBeVhi8bk7CRZN0jQNFouQmcisZMOwBWxEDAEkjC2uVHkphNWMnbo/7BvWEASruB\n",
              "AAAAJgGe5mpD/wAJbBtkGWBNDzMBQze1kL1sNRBfm/YClDn02tQ5bcCBAAACO0Ga60moQWyZTAgp\n",
              "//7WjLAA5Nr+TX2wAEUDGn7cROAVKKDZrd851PjObPOoQa5UBBBNq9zIEBF8hsPnXHIFcVIpFR8z\n",
              "jbsAkNVPDXvcr9tqh8brBv2Ep5TRFertD5+R9ukGxzrjwp3Fv44e+rj++x+CY1E8QO4gWtBXkjBE\n",
              "lBtcaTTRLxsI4Joj5eTdyUNmbL6pqHtJv0BlWoQtyUCbnSmQlAlGJni701ugt4gUpYIboHr4hX5q\n",
              "ypCavxe/Dwweh0cwCZKdqyN8+YzcBtdycpe6uBu0k4Bn6M7c1Z9PIoe8hOx00q+6vU7OatzkEm55\n",
              "24aqk/jmK+bEnKFaZq2/kvKWQm3gDxzpOKWELkb3Om3INjalzz4gvoq0+cWC+5y1HTJZS2jbS9Bm\n",
              "2n2pv58ob4YxZXcDOWXRRzRFPnhtzIt05+KzbMpSJ3uIc2V7/oL9ofVCrY5RwhaUFv7aRGQJrbXK\n",
              "9e8DF7xvjfed/wmSE9Dfuxu2h5rVUvZT2RpDuW4N/k8n0fsL6hCYSHxBVWACsQl+IoM0IEn+AOuM\n",
              "uvkOZ0AXCEop/ef9jgZ7YK8Kb7ySIwtTVsqCf0O7x5PfjgMiYVfaS3eQXhpacOaghwya81cwLpKX\n",
              "32sSgTx0vaUCp7GZGUUaaIUqYrL3+vYwdkNs+GYDpV/8nU24Gms4Hl9p+c/KhWjcQbpWOzQzvvMX\n",
              "av7Qo9IjVqgHdD3EILrCoM5K7tD7GJbwzB5egK+3BP/Hq2254fs3SPTtkJo3mqIAAABKQZ8JRRUs\n",
              "EP8ABFVBA0CcfvX0s1eS3xY18vqeoiLxvYla1a3ifzm2j6N3Pq02aAFOkgXT0l1vRcXNIXPXpBFV\n",
              "weMYIgBAD/RDNIwAAAAnAZ8odEP/AAlq5Xh7Acno1SV1ydSRXeLJ1zalW3ajYNx5fC6G4gLLAAAA\n",
              "MQGfKmpD/wAJrL4u0G+Jdm2zFCte8FCdM/un7PQ8QtDqRu2bdtZZj6LVY/jivGR+jYAAAAIQQZsv\n",
              "SahBbJlMCCn//taMsAHI11cQQCf4eI27caxzZIt+G5mgQY2j+W2PB+GVmdcxV34yOEiT4P+7I7LU\n",
              "aP3R4iWNyPQvavJcVM30lVS1W729NB2vNMg0rah/w6hCHQgbiaO1cGQZ7rcvJzoiU9GJ27nsk1HT\n",
              "BJ5bxswsvb9SDEKaEgIM+ovTPGHiBH11vd3uFQ3QRsbnZf3/O472TaTjgXF/NvipFB6fyMx96Zjw\n",
              "N5bCTqT6ONswmdG9zEz5k4D1QQNk/J48yBmU5B9y0DimytJrcbwq+pVKZFWfNoM9QrQxLcVZkJfG\n",
              "HneWFJI6u2nwNbVrPfM9Wi8cwR6NZek68JyTLQY+NUTwefwyTJ0ABqJPd5/I6kleZgYuzh9juCYv\n",
              "C+0h6TdiGv8CcMJzTdgIxj1SwOaYl94FMtnw5RdR0xB9gYa081tODEzocK6nhqWheRt1/O1bbbth\n",
              "7AmZcG2oQfaCscPLV3UGrgmEsewHtKFKqMUXnS6mVv75ny6/gaDq4rIIyB8cLl5TaK0/6NDhoY3c\n",
              "HjPYmRY6GSA4uCvYmF8dOh1+Vt4zMValJV66wqMZ+WMjtV8y91OfJMzV3sFGlyxrine7z9rFDYoW\n",
              "HYbqhWHw8GRgXwGOiSfjBL4KYLEJUEt9Cwk7naNonkgTO+mUaK+txaU6URx4iFjQSO+KG4df8Pxf\n",
              "MeLK8p6s7pVJpICAAAAAOkGfTUUVLBD/AAiq20brny6ISs83KIy1OS/5AJ1r/qTmJlE+4GVL+7Dv\n",
              "EMOT2IetGbSawC8oMg20R8EAAAAlAZ9sdEP/AAmsu1mIg3cVCBvKTx87gF9jQVMd+gIPf18Jc0AH\n",
              "zQAAACUBn25qQ/8AE1hqZviuMGNW188GedtEKT29zBxr7FfmBB8VHAz5AAABxEGbc0moQWyZTAgn\n",
              "//61KoAG85p8tuQUobUAJ+x47dbi4izVK0Rkg5gwKXqTAAfmRKw0lLY4uKNFAROTloFqZzM5Cekb\n",
              "npQVhEhi//A7u5M262fXNKm2xAJ7R5vpx2EfH966Cjdl3ItaZ8OcZ2N3AXcbINaoEk5NfqVr4OVH\n",
              "gYsGMTkUOJ6/6iswxkOvpVLoxKQaUyIo01ahhpY7U5F6JawvxTUA8h3tRMJfAkG4Zf7TeYp7Si6v\n",
              "eGicyJns0TTMnt30YoEDbJQIN0B8A0K4aIJd/HdyqGKPdxD25avR3Y5C3W9GDKwrsmE1ldnG9EC/\n",
              "SAxXYN3+8oEmg3tLmyfOeCq/udq64pdzIO/EDOaA8IsL3sF7huRAgYK1vsC32W8ywdLgZfg9eS+4\n",
              "yDTPWZA8odL0yLAIbdmJE2GpwFmJRdFsPvVe9FwQEWdrnm9jAV5qRWvMjHO/S8jGjRYol4Duyhg+\n",
              "IcbTEWU+FtH8uPQbVTokf4WCNSa5E26qBmLuY2XdQR+68j/FrrzRxRVOyvoWcxKKrRwFforDaLMF\n",
              "f/k3r3Oa1fo8nvNPJAtNwMO9c6BSif/7JwiLi7GODOBuaTRC5YG1HrhiAAAAPEGfkUUVLBD/AAiq\n",
              "gge4EO2xpgnLGICPju84a21rLs7/8U5FFe3NWORY3KQ8JUkZbGTkCxgZaZEFeNSYsAAAADIBn7B0\n",
              "Q/8AE2CXADkFwCuYK8y6AAURwAxiYPMUEa9cKKJ/P6udivLiWKZ/QoeWVudtoQAAACIBn7JqQ/8A\n",
              "Br+L/Lw/avaPt05IVlcBYKBYmqDnOxqFmO6AAAABrUGbt0moQWyZTAgn//61KoAG85p8uB1FDi4F\n",
              "PoiOXDMT0lGiXv/oxOKKoNBgRuu4CjPKPHIBoDsXP4Xhd0DvpB6tptNIfCca5yrFMUwlhhLa02XR\n",
              "vlbZfmyy5JRSwA5VP/buT5YEoXvP+W+GcxwGjT5IFU8BZcIoSs4+EZadq5QKn8x7jeP42i0Am0cz\n",
              "3TUFmRKnsad2Ww6g1mGsLRObF9f67YivxuJzpCAM1g9QgDqaA4z+75Xvrs8ZfRLn6B3lHfmShd1M\n",
              "vdMyhTCH0KE5tggZZHkx9vWXinGjlSVnNrN8BBtVfbN09gRK1cj2Kpld5oseZR20UspSi1Q07hgp\n",
              "5eWAiK7B4JHb7aaznOxxlW280KgrPVCr4x35bdu0bG4ekMQQvS29WYzwbsldENa5s7SWP35lI3xM\n",
              "lz1s3cGbMc43bUlrbIp1mbymcMKulWtbbbFMwEtpAevzStt0O6C7vx5mmrUQipXNPXXt9VUzE4A5\n",
              "aI3f6GVLhZK+1fT45odWPbefSJzT2ioUij4rin+ezDBlZzcCDrYorYDR8wHqsrZEbw6fPlfNPjPf\n",
              "mCdYIAAAAElBn9VFFSwQ/wAIqoIIO5gB8mIUF6yHcBifuU0nllXxNi9Qvwpv6LujBf3uLDu4PRm8\n",
              "O7yetyCUICKyzkm5rWj3y5+RR3vt4l0xAAAAQQGf9HRD/wATWXbPEEns59Ckdve4JRNMTU0A7f+T\n",
              "gGyju87qH1BiPsSlSdyl1YZACedqE5p4c7D3YFctRaxWKEPAAAAAOwGf9mpD/wATWItktC1d6HsX\n",
              "LwMDYiJ7WLV52pY4yVwx7+jroYVOsmoUPW+nUVN7itDB6CxskjmJ6oNpAAABZEGb+0moQWyZTAgn\n",
              "//61KoAG85tZGgBELFJ1p0AWTKQzduw+GIcdAnR+whVdPXPOxVUOtu9N9sutsShNBCeyqXKUNy3v\n",
              "RcX1Dju3pN6HxJS4uh7nt9HFf+hsqDiJEk5aDK0W56YOggSXtlnERgrdfiuz+Lom5ca++SQCrA6S\n",
              "ueSrABROynPwPavdscoEo0Lu8QDoU5cMfkQAdyeysIva5wMEnlUIw/ZSW8WYgOEhuALEda9Zw9QZ\n",
              "9i/XJ3FV7BlzdzgHQhXNksv0Q4Nj6dmIkkQ3Sp+IEa/SAFVvqimYbcr6qGMu5yTeJthn7kCaL3jo\n",
              "5GkfacCSxrCH/eyKhrpAVtJbAK3PCVXZGxq+805wAHvBn6VdH8Tpx71OuRmlErGLOCvoqRxGjyWi\n",
              "gRQMGsaMwXPSMY14hlW9HMwpfr3mnKpsm0YkNGzP9mRxSVT0LEdtwI1WhI+9mFP8ymGX7bYYB8dr\n",
              "+XAPAAAAWUGeGUUVLBD/AAiqg65XmyOe1aPtUuKayFTJq/2/1MM7PZIEWi/pJh/zIw4EvgBuQdLB\n",
              "hI4YPHGuAUh96ddhTRtfoXnV+kQ0tSd+kUznak55Irhz1wKEnUlmAAAAPAGeOHRD/wATV4/yNoaZ\n",
              "JeH//l0lx0n90KXUhLuBfM7se4DuC7fZyBRAG877acHJtAJ0mSYuG2YozDNDfwAAADEBnjpqQ/8A\n",
              "Etg2dyDrTmuVFFniJK+dKVNzzuXLBTs46ksXScjDcEvvFvNMkcN1/+9AAAABIUGaP0moQWyZTAgl\n",
              "//61KoAG8j83DQyAA+ljI6/Bzxo9IjJ1D9C9F/LcOhq/nzs4ZsfVq6qovzzJZSMqPaOoTOGKw48X\n",
              "z4hlPGGR6nmmLULFoZ0g+LHwWA0O7oTltDsxpO9gw4oH3pQxydD8zKbn+R8KSS+8P3cLTgokv7h0\n",
              "3fEK7AfpViE0xlikAlr4GDiWaOsUC99eCzJ50o1zSt4GuTaM7zKfE6fNUgf5OUrWmIaYvqcF4kH8\n",
              "blhViHot9BYnaE2goEgrRaj8mnl5iSU8Uv/sx9y4Bu25dtmpS6rYE4vT6HMRsq4BWlxd36tEFzKC\n",
              "BDwVO/9vr12XwtMEJ4ty4UTu5IUwMjts9BGI+XRf7RioCngIUyBJqviH7iOKmNnjlaEAAABVQZ5d\n",
              "RRUsEP8ACKsEU2YN62ziAFvqNecYUbMoMy4+tBG7ew5X+v9b1gi7lQHZ//pYvV4XTpvlfJlCE+yD\n",
              "ykG2IIULZ38slMtG1RXBmz5CuYPpV5S2gQAAAEEBnnx0Q/8AE1YYVik4smCOUwg68o8sRD1DCQpA\n",
              "VK2is5ITQaQ72sskOZeap3MTZDyludJTFzBZc9Iz53Ca4XMHHAAAAD8Bnn5qQ/8AE1aQ+k/FpJzK\n",
              "p4E58Z9FBGMuYdknsx8OS8Pn+BFul6q8dtuOQ5iDSUYn0M9+zxBGvPcZd11JA4AAAABqQZpjSahB\n",
              "bJlMCH///qmWADaHHJfUQbaLZjDpoCrkAhupcfh9YgRB1nnnXVj4ASc21ANLKy+aK3ToIVd5HMUk\n",
              "KcCFTm4q0fejQp/Z3b/nIV7fpygMleFd53N36FmM7mlLafhDihQd64PKSQAAADtBnoFFFSwQ/wAI\n",
              "a2yPcQCp0IwgcSVrtgI4Wk/GWcivtaaGBBrLQnAp/diEs2GErOxi8hCkSefxk7PE3AAAAD8BnqB0\n",
              "Q/8ADX8RlxXdUrBL+lfCZS4DvQWwZK0Ldd9XjRYARo7Z1WqdsKERxMxBk0UEfD9ENnVQHNWTT5U2\n",
              "vJMAAABMAZ6iakP/AA1+aZBuGS0AY2OJ2oR4UjN38LG3bWbHbYRDgACu+A41hmU4NHxt5UB3Jlb9\n",
              "ylwHamEozVHIkT9AOT/DuVgmMalnzqsUSQAAB8Ztb292AAAAbG12aGQAAAAAAAAAAAAAAAAAAAPo\n",
              "AABOIAABAAABAAAAAAAAAAAAAAAAAQAAAAAAAAAAAAAAAAAAAAEAAAAAAAAAAAAAAAAAAEAAAAAA\n",
              "AAAAAAAAAAAAAAAAAAAAAAAAAAAAAAAAAAACAAAG8HRyYWsAAABcdGtoZAAAAAMAAAAAAAAAAAAA\n",
              "AAEAAAAAAABOIAAAAAAAAAAAAAAAAAAAAAAAAQAAAAAAAAAAAAAAAAAAAAEAAAAAAAAAAAAAAAAA\n",
              "AEAAAAABsAAAASAAAAAAACRlZHRzAAAAHGVsc3QAAAAAAAAAAQAATiAAABAAAAEAAAAABmhtZGlh\n",
              "AAAAIG1kaGQAAAAAAAAAAAAAAAAAACgAAAMgAFXEAAAAAAAtaGRscgAAAAAAAAAAdmlkZQAAAAAA\n",
              "AAAAAAAAAFZpZGVvSGFuZGxlcgAAAAYTbWluZgAAABR2bWhkAAAAAQAAAAAAAAAAAAAAJGRpbmYA\n",
              "AAAcZHJlZgAAAAAAAAABAAAADHVybCAAAAABAAAF03N0YmwAAACzc3RzZAAAAAAAAAABAAAAo2F2\n",
              "YzEAAAAAAAAAAQAAAAAAAAAAAAAAAAAAAAABsAEgAEgAAABIAAAAAAAAAAEAAAAAAAAAAAAAAAAA\n",
              "AAAAAAAAAAAAAAAAAAAAAAAAAAAY//8AAAAxYXZjQwFkABX/4QAYZ2QAFazZQbCWhAAAAwAEAAAD\n",
              "ACg8WLZYAQAGaOvjyyLAAAAAHHV1aWRraEDyXyRPxbo5pRvPAyPzAAAAAAAAABhzdHRzAAAAAAAA\n",
              "AAEAAABkAAAIAAAAABRzdHNzAAAAAAAAAAEAAAABAAADGGN0dHMAAAAAAAAAYQAAAAEAABAAAAAA\n",
              "AQAAGAAAAAABAAAIAAAAAAIAABAAAAAAAQAAGAAAAAABAAAIAAAAAAIAABAAAAAAAQAAIAAAAAAC\n",
              "AAAIAAAAAAEAACgAAAAAAQAAEAAAAAABAAAAAAAAAAEAAAgAAAAAAQAAKAAAAAABAAAQAAAAAAEA\n",
              "AAAAAAAAAQAACAAAAAABAAAoAAAAAAEAABAAAAAAAQAAAAAAAAABAAAIAAAAAAEAACgAAAAAAQAA\n",
              "EAAAAAABAAAAAAAAAAEAAAgAAAAAAQAAKAAAAAABAAAQAAAAAAEAAAAAAAAAAQAACAAAAAABAAAo\n",
              "AAAAAAEAABAAAAAAAQAAAAAAAAABAAAIAAAAAAEAACgAAAAAAQAAEAAAAAABAAAAAAAAAAEAAAgA\n",
              "AAAAAQAAKAAAAAABAAAQAAAAAAEAAAAAAAAAAQAACAAAAAABAAAoAAAAAAEAABAAAAAAAQAAAAAA\n",
              "AAABAAAIAAAAAAEAACgAAAAAAQAAEAAAAAABAAAAAAAAAAEAAAgAAAAAAQAAKAAAAAABAAAQAAAA\n",
              "AAEAAAAAAAAAAQAACAAAAAABAAAoAAAAAAEAABAAAAAAAQAAAAAAAAABAAAIAAAAAAEAACgAAAAA\n",
              "AQAAEAAAAAABAAAAAAAAAAEAAAgAAAAAAQAAKAAAAAABAAAQAAAAAAEAAAAAAAAAAQAACAAAAAAB\n",
              "AAAoAAAAAAEAABAAAAAAAQAAAAAAAAABAAAIAAAAAAEAACgAAAAAAQAAEAAAAAABAAAAAAAAAAEA\n",
              "AAgAAAAAAQAAKAAAAAABAAAQAAAAAAEAAAAAAAAAAQAACAAAAAABAAAoAAAAAAEAABAAAAAAAQAA\n",
              "AAAAAAABAAAIAAAAAAEAACgAAAAAAQAAEAAAAAABAAAAAAAAAAEAAAgAAAAAAQAAKAAAAAABAAAQ\n",
              "AAAAAAEAAAAAAAAAAQAACAAAAAABAAAoAAAAAAEAABAAAAAAAQAAAAAAAAABAAAIAAAAAAEAACgA\n",
              "AAAAAQAAEAAAAAABAAAAAAAAAAEAAAgAAAAAHHN0c2MAAAAAAAAAAQAAAAEAAABkAAAAAQAAAaRz\n",
              "dHN6AAAAAAAAAAAAAABkAAAQyQAABV4AAAD1AAADDgAAA0kAAANWAAAAZwAAAqYAAAJ6AAADqQAA\n",
              "AH0AAABjAAADwwAAAIQAAABTAAAASwAAAvgAAAB6AAAATwAAADcAAAMzAAAAbgAAADwAAABBAAAD\n",
              "UQAAAGQAAAA/AAAANwAAAtcAAABTAAAAPAAAADkAAALTAAAAVAAAAD8AAAA2AAADBQAAAFgAAABL\n",
              "AAAAMQAAAuQAAABaAAAALQAAADcAAAKlAAAAZwAAADUAAABKAAAC6AAAAFsAAABUAAAAQAAAAmsA\n",
              "AABcAAAAMwAAAEEAAAKBAAAAVgAAAFIAAAAtAAACoAAAAE4AAAA9AAAAKQAAApkAAABJAAAAJAAA\n",
              "ACYAAAIKAAAAUQAAAEkAAAAqAAACPwAAAE4AAAArAAAANQAAAhQAAAA+AAAAKQAAACkAAAHIAAAA\n",
              "QAAAADYAAAAmAAABsQAAAE0AAABFAAAAPwAAAWgAAABdAAAAQAAAADUAAAElAAAAWQAAAEUAAABD\n",
              "AAAAbgAAAD8AAABDAAAAUAAAABRzdGNvAAAAAAAAAAEAAAAsAAAAYnVkdGEAAABabWV0YQAAAAAA\n",
              "AAAhaGRscgAAAAAAAAAAbWRpcmFwcGwAAAAAAAAAAAAAAAAtaWxzdAAAACWpdG9vAAAAHWRhdGEA\n",
              "AAABAAAAAExhdmY1Ny44My4xMDA=\n",
              "\">\n",
              "  Your browser does not support the video tag.\n",
              "</video>"
            ],
            "text/plain": [
              "<IPython.core.display.HTML object>"
            ]
          },
          "metadata": {
            "tags": []
          },
          "execution_count": 223
        }
      ]
    },
    {
      "cell_type": "code",
      "metadata": {
        "id": "V9ROWbspkMyi",
        "colab_type": "code",
        "colab": {}
      },
      "source": [
        ""
      ],
      "execution_count": 0,
      "outputs": []
    }
  ]
}